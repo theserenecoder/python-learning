{
 "cells": [
  {
   "cell_type": "markdown",
   "metadata": {},
   "source": [
    "#### Airthmatic Operations\n",
    "Used for performing mathematical operations:\n",
    "\n",
    "1. Normal Airthmatic operations: +, -, *, /\n",
    "\n",
    "\n",
    "    / :- always produce a float.\n"
   ]
  },
  {
   "cell_type": "code",
   "execution_count": 10,
   "metadata": {},
   "outputs": [
    {
     "name": "stdout",
     "output_type": "stream",
     "text": [
      " addition 30\n",
      " substraction 10\n",
      " multiplication 200\n",
      " division 2.0\n"
     ]
    }
   ],
   "source": [
    "a,b = 10,20\n",
    "print(\" addition {}\\n substraction {}\\n multiplication {}\\n division {}\". format(a+b,b-a,a*b,b/a))"
   ]
  },
  {
   "cell_type": "markdown",
   "metadata": {},
   "source": [
    "2. Quotient/ Floor Division (//) : It returns the quotient without the fraction\n",
    "    \n",
    "    \n",
    "3. Remainder/ Modulo division (%) : Returns the remainder "
   ]
  },
  {
   "cell_type": "code",
   "execution_count": 15,
   "metadata": {},
   "outputs": [
    {
     "name": "stdout",
     "output_type": "stream",
     "text": [
      "Quotient  2\n",
      "Reminder  0\n"
     ]
    }
   ],
   "source": [
    "print(\"Quotient \",b//a)\n",
    "print(\"Reminder \",b%a)"
   ]
  },
  {
   "cell_type": "markdown",
   "metadata": {},
   "source": [
    "4. Exponential (**): Returns to the power value\n",
    "\n",
    "There are few more built-in operations like: **log(), sqrt(), sin() ...**, but to use these we need to **include math** "
   ]
  },
  {
   "cell_type": "code",
   "execution_count": 19,
   "metadata": {},
   "outputs": [
    {
     "name": "stdout",
     "output_type": "stream",
     "text": [
      "Exponential 8\n"
     ]
    }
   ],
   "source": [
    "print(\"Exponential\",2**3)"
   ]
  },
  {
   "cell_type": "markdown",
   "metadata": {},
   "source": [
    "####  Decreasing Order of Airthmatic Operator\n",
    "\n",
    "\n",
    "\n",
    "|S.No|Decreasing Order|Operation|\n",
    "|:-:| :---|:-:|\n",
    "|1|Parentheses|()|\n",
    "|2|Exponent|** |\n",
    "|3|Reminder, Quotient, Division, Multiplication|// , % , / , * |\n",
    "|4|Addition, Subtraction| +, -|\n",
    "        "
   ]
  },
  {
   "cell_type": "code",
   "execution_count": 20,
   "metadata": {},
   "outputs": [
    {
     "name": "stdout",
     "output_type": "stream",
     "text": [
      "False True\n"
     ]
    }
   ],
   "source": [
    "def division(m,n):\n",
    "    \n",
    "    # if completely divisible by m return True else False\n",
    "    if (n%m == 0):\n",
    "        return True\n",
    "    else:\n",
    "        return False\n",
    "\n",
    "def even(n):\n",
    "    return division(2,n)\n",
    "\n",
    "def odd(n):\n",
    "    return not division(2,n)\n",
    "\n",
    "v1 = even(5)\n",
    "v2 = odd(7)\n",
    "print(v1,v2)"
   ]
  },
  {
   "cell_type": "markdown",
   "metadata": {},
   "source": [
    "#### Logical Operators : and, or, not\n",
    "\n",
    "1. Not :  not True is False, and not False is True.\n",
    "2. And :  x and y is True, if both x, y are True.\n",
    "3. Or  :  x or y is True, if atleast one of x, y is True."
   ]
  },
  {
   "cell_type": "code",
   "execution_count": 24,
   "metadata": {},
   "outputs": [
    {
     "name": "stdout",
     "output_type": "stream",
     "text": [
      "10 20\n",
      "False\n"
     ]
    }
   ],
   "source": [
    "print(a,b)\n",
    "\n",
    "# Logical and operator, both condition need to be TRUE\n",
    "print(a>b and b>a)"
   ]
  },
  {
   "cell_type": "code",
   "execution_count": 25,
   "metadata": {},
   "outputs": [
    {
     "name": "stdout",
     "output_type": "stream",
     "text": [
      "True\n"
     ]
    }
   ],
   "source": [
    "# Logical or operator, any one condition needs to be True\n",
    "print(a>b or b>a)"
   ]
  },
  {
   "cell_type": "code",
   "execution_count": 28,
   "metadata": {},
   "outputs": [
    {
     "name": "stdout",
     "output_type": "stream",
     "text": [
      "True\n"
     ]
    }
   ],
   "source": [
    "# Not, condition should be False to be True\n",
    "print(not (a ==b ))"
   ]
  },
  {
   "cell_type": "markdown",
   "metadata": {},
   "source": [
    "#### Comparision Operators\n",
    "\n",
    "Used for value comparision and it either returns True or False.\n",
    "\n",
    "1. '>'  : Greater than\n",
    "2. '<'  : Less than\n",
    "3. '==' : Equal to\n",
    "4. '!=' : Not equal to\n",
    "5. '>=' : Greater than equal to\n",
    "6. '<=' : Less than equal to\n",
    "\n",
    "7. Combine using logical operator:\n",
    "```Python\n",
    "n > 0 and (m%n==0)\n",
    "```\n",
    "\n",
    "8. Assign a boolean expression to a name:\n",
    "```Python\n",
    "divisor = (m%n ==0)\n",
    "```"
   ]
  },
  {
   "cell_type": "code",
   "execution_count": 33,
   "metadata": {},
   "outputs": [
    {
     "name": "stdout",
     "output_type": "stream",
     "text": [
      "a>b : False\n",
      "a<b : True\n",
      "a == b : False\n",
      "a != b : True\n",
      "a>=b : False\n",
      "a <= b : True\n",
      "b>a and b%2 ==0 : True\n"
     ]
    }
   ],
   "source": [
    "print(\"a>b :\",a>b)\n",
    "print(\"a<b :\",a<b)\n",
    "print(\"a == b :\",a == b)\n",
    "print(\"a != b :\",a != b)\n",
    "print(\"a>=b :\",a>=b)\n",
    "print(\"a <= b :\", a<=b)\n",
    "print(\"b>a and b%2 ==0 :\", b>a and b%2 ==0)"
   ]
  },
  {
   "cell_type": "markdown",
   "metadata": {},
   "source": [
    "####  Bitwise Operators\n",
    "\n",
    "Bitwise operator act on an operand as if they were strings of binary digits. It operates bit by bit. It only operates on integers.\n",
    "\n",
    "1. & - And\n",
    "2. | - Or\n"
   ]
  },
  {
   "cell_type": "code",
   "execution_count": 34,
   "metadata": {},
   "outputs": [
    {
     "name": "stdout",
     "output_type": "stream",
     "text": [
      "14\n"
     ]
    }
   ],
   "source": [
    "a,b = 10,4\n",
    "print(a|b)"
   ]
  },
  {
   "cell_type": "code",
   "execution_count": 37,
   "metadata": {},
   "outputs": [
    {
     "name": "stdout",
     "output_type": "stream",
     "text": [
      "0\n"
     ]
    }
   ],
   "source": [
    "print(a&b)"
   ]
  },
  {
   "cell_type": "markdown",
   "metadata": {},
   "source": [
    "####  Identity Operators\n",
    "\n",
    "Used for checking if two variable are stored in same part of memory.\n",
    "\n",
    "-  **is**\n",
    "-  **is not**"
   ]
  },
  {
   "cell_type": "code",
   "execution_count": 40,
   "metadata": {},
   "outputs": [
    {
     "name": "stdout",
     "output_type": "stream",
     "text": [
      "True\n"
     ]
    }
   ],
   "source": [
    "x,y = 5,5\n",
    "print(x is y)"
   ]
  },
  {
   "cell_type": "code",
   "execution_count": 41,
   "metadata": {},
   "outputs": [
    {
     "name": "stdout",
     "output_type": "stream",
     "text": [
      "True\n"
     ]
    }
   ],
   "source": [
    "print(a is not b)"
   ]
  },
  {
   "cell_type": "code",
   "execution_count": 43,
   "metadata": {},
   "outputs": [
    {
     "data": {
      "text/plain": [
       "True"
      ]
     },
     "execution_count": 43,
     "metadata": {},
     "output_type": "execute_result"
    }
   ],
   "source": [
    "a = [1,2,4]\n",
    "b = a\n",
    "a is b"
   ]
  },
  {
   "cell_type": "markdown",
   "metadata": {},
   "source": [
    "### Membership Operator\n",
    "\n",
    "Used to find whether the element is in the sequence or not. There are two membership operators:\n",
    "\n",
    "- **in**\n",
    "- **not in**"
   ]
  },
  {
   "cell_type": "code",
   "execution_count": 44,
   "metadata": {},
   "outputs": [
    {
     "name": "stdout",
     "output_type": "stream",
     "text": [
      "True\n"
     ]
    }
   ],
   "source": [
    "lst = [1,3,5,7]\n",
    "print(3 in lst)"
   ]
  },
  {
   "cell_type": "code",
   "execution_count": 45,
   "metadata": {},
   "outputs": [
    {
     "name": "stdout",
     "output_type": "stream",
     "text": [
      "True\n"
     ]
    }
   ],
   "source": [
    "print(\"hello\" not in lst)"
   ]
  }
 ],
 "metadata": {
  "kernelspec": {
   "display_name": "Python 3",
   "language": "python",
   "name": "python3"
  },
  "language_info": {
   "codemirror_mode": {
    "name": "ipython",
    "version": 3
   },
   "file_extension": ".py",
   "mimetype": "text/x-python",
   "name": "python",
   "nbconvert_exporter": "python",
   "pygments_lexer": "ipython3",
   "version": "3.7.3"
  }
 },
 "nbformat": 4,
 "nbformat_minor": 4
}
