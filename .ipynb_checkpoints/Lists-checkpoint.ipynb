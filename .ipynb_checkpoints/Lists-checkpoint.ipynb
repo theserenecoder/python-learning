{
 "cells": [
  {
   "cell_type": "markdown",
   "metadata": {},
   "source": [
    "###  Lists\n",
    "- Sequence of items defined under [] seperated by comma (,) and each element has an assigned index value. \n",
    "- Lists can have multiple types of element.\n",
    "- It can have elements of any type. \n",
    "- Lists are mutable means the value of objects can be changed."
   ]
  },
  {
   "cell_type": "code",
   "execution_count": 91,
   "metadata": {},
   "outputs": [
    {
     "name": "stdout",
     "output_type": "stream",
     "text": [
      "[10, 20, 'dog', 1.2]\n",
      "[[1, 2], 4, (6, [78])]\n",
      "[]\n"
     ]
    }
   ],
   "source": [
    "a = [10,20,\"dog\",1.20]        # list with multiple data types\n",
    "b = [[1,2],4,(6,[78])]        # have list and tuple as an element\n",
    "c = []                        # Empty list\n",
    "print(a)\n",
    "print(b)\n",
    "print(c)"
   ]
  },
  {
   "cell_type": "markdown",
   "metadata": {},
   "source": [
    "**Indexing**\n",
    "\n",
    "Indexing means accessing element from a iterable object. [] can be used. It finds the first occurence of the element and return it's value.\n",
    "\n",
    "Syntax : object.index(sub[start[,end]]), object[index]\n",
    "\n",
    "- Index starts from 0.\n",
    "- Negative index is used to access element from the end of the list."
   ]
  },
  {
   "cell_type": "code",
   "execution_count": 19,
   "metadata": {},
   "outputs": [
    {
     "name": "stdout",
     "output_type": "stream",
     "text": [
      "2\n",
      "1\n"
     ]
    }
   ],
   "source": [
    "print(a.index('dog'))\n",
    "print(b.index(4))"
   ]
  },
  {
   "cell_type": "code",
   "execution_count": 88,
   "metadata": {},
   "outputs": [
    {
     "name": "stdout",
     "output_type": "stream",
     "text": [
      "4\n",
      "78\n",
      "updated list is : [[1, 2], 19, (6, [78])]\n"
     ]
    }
   ],
   "source": [
    "print(b[1])        # single position returns a single value\n",
    "print(b[2][1][0])  # nested list value\n",
    "\n",
    "# Updating list element value\n",
    "b[1] = 19\n",
    "print(\"updated list is :\", b)"
   ]
  },
  {
   "cell_type": "markdown",
   "metadata": {},
   "source": [
    "#### **Slicing**\n",
    "It creates a slice object. It can be used to extend or shrink the list.\n",
    "\n",
    "Syntax : object[slice(start,stop,step)], object[slice(stop)], object[start:stop:step]"
   ]
  },
  {
   "cell_type": "code",
   "execution_count": 90,
   "metadata": {},
   "outputs": [
    {
     "name": "stdout",
     "output_type": "stream",
     "text": [
      "[[1, 2], 19]\n"
     ]
    }
   ],
   "source": [
    "print(b[0:2])      # slicing returns a list"
   ]
  },
  {
   "cell_type": "code",
   "execution_count": 89,
   "metadata": {},
   "outputs": [
    {
     "name": "stdout",
     "output_type": "stream",
     "text": [
      "[[1, 2], 19, (6, [78])]\n",
      "[19, (6, [78])]\n"
     ]
    }
   ],
   "source": [
    "print(b)\n",
    "print(b[slice(1,4,1)])"
   ]
  },
  {
   "cell_type": "code",
   "execution_count": 15,
   "metadata": {},
   "outputs": [
    {
     "name": "stdout",
     "output_type": "stream",
     "text": [
      "[1, 2, 3, 5, 6, 7, 8]\n",
      "[1, 2, 4]\n"
     ]
    }
   ],
   "source": [
    "# extending a list\n",
    "a = [1,2,3,4]\n",
    "a[3:] = [5,6,7,8]\n",
    "print(a)\n",
    "\n",
    "# shrinking a list\n",
    "a[2:] = [4]\n",
    "print(a)"
   ]
  },
  {
   "cell_type": "markdown",
   "metadata": {},
   "source": [
    "#### Assignment / Multiple \n",
    "\n",
    "1. Immutable Type - assignment make a fresh copy of a value\n",
    "2. Mutable Type - assignment does not makes a fresh copy instead both name points to the same value. To make a fresh copy use slicing.\n",
    "```Python\n",
    "a = [1,2,3,4]\n",
    "b = a[:]\n",
    "```"
   ]
  },
  {
   "cell_type": "code",
   "execution_count": 5,
   "metadata": {},
   "outputs": [
    {
     "name": "stdout",
     "output_type": "stream",
     "text": [
      "[1, 2, 3, 4, 6]\n"
     ]
    }
   ],
   "source": [
    "lst = [1,2,3,4]\n",
    "abc = lst\n",
    "abc.append(6)\n",
    "print(lst)"
   ]
  },
  {
   "cell_type": "markdown",
   "metadata": {},
   "source": [
    "As both the lists are pointing to the same location, changes made to one will affect the other."
   ]
  },
  {
   "cell_type": "code",
   "execution_count": 7,
   "metadata": {},
   "outputs": [
    {
     "name": "stdout",
     "output_type": "stream",
     "text": [
      "False\n",
      "lst1 loc is  1725717607368\n",
      "lst2 loc is  1725717607816\n",
      "lst3 loc is  1725717607816\n",
      "True\n"
     ]
    }
   ],
   "source": [
    "lst1 = [1,2,3,4]\n",
    "lst2 = [1,2,3,4]\n",
    "lst3 = lst2                       # both list are pointing to the same location\n",
    "print(lst1 is lst2)               # both are fresh assignments and are stored seprately\n",
    "print(\"lst1 loc is \",id(lst1))\n",
    "print(\"lst2 loc is \", id(lst2))\n",
    "print(\"lst3 loc is \", id(lst3))\n",
    "print(lst2 is lst3)\n"
   ]
  },
  {
   "cell_type": "markdown",
   "metadata": {},
   "source": [
    "Concatination produces a "
   ]
  },
  {
   "cell_type": "markdown",
   "metadata": {},
   "source": [
    "### Functions in List\n",
    "\n",
    "- len()\n",
    "- insert()\n",
    "- append()\n",
    "- extend()\n",
    "- concatination\n",
    "- remove()\n",
    "- clear()\n",
    "- del\n",
    "- pop()\n",
    "- reverse()\n",
    "- list.sort()\n",
    "- count()\n",
    "- copy()\n",
    "\n",
    "\n",
    "\n",
    "\n",
    "\n",
    "1. __Len()__ - to count length of the list"
   ]
  },
  {
   "cell_type": "code",
   "execution_count": 9,
   "metadata": {},
   "outputs": [
    {
     "name": "stdout",
     "output_type": "stream",
     "text": [
      "5\n"
     ]
    }
   ],
   "source": [
    "lst4 = [1,2,3,4,5]\n",
    "print(len(lst4))"
   ]
  },
  {
   "cell_type": "markdown",
   "metadata": {},
   "source": [
    "2. __Insert()__ \n",
    "\n",
    "Syntax : list.insert(index,element)\n",
    "\n",
    "It is used to add an element at a certain index in the list."
   ]
  },
  {
   "cell_type": "code",
   "execution_count": 10,
   "metadata": {},
   "outputs": [
    {
     "name": "stdout",
     "output_type": "stream",
     "text": [
      "[1, 2, 'hello', 3, 4]\n"
     ]
    }
   ],
   "source": [
    "lst1.insert(2,\"hello\")\n",
    "print(lst1)"
   ]
  },
  {
   "cell_type": "markdown",
   "metadata": {},
   "source": [
    "3. __Append()__ \n",
    "\n",
    "Syntax : list.append(element)\n",
    "\n",
    "To add an element or another list at the end in the list. If a new list is appended then a nested list will be created."
   ]
  },
  {
   "cell_type": "code",
   "execution_count": 12,
   "metadata": {},
   "outputs": [
    {
     "name": "stdout",
     "output_type": "stream",
     "text": [
      "[1, 2, 'hello', 3, 4, [5, 6], [5, 6]]\n"
     ]
    }
   ],
   "source": [
    "lst1.append([5,6])\n",
    "print(lst1)"
   ]
  },
  {
   "cell_type": "markdown",
   "metadata": {},
   "source": [
    "4. __Extend()__ \n",
    "\n",
    "Syntax : list.extend(iterable)\n",
    "\n",
    "To add the element of another iterable as an element in the existing list."
   ]
  },
  {
   "cell_type": "code",
   "execution_count": 13,
   "metadata": {},
   "outputs": [
    {
     "name": "stdout",
     "output_type": "stream",
     "text": [
      "[1, 2, 3, 4, 5, 1, 2, 'hello', 3, 4, [5, 6], [5, 6]]\n"
     ]
    }
   ],
   "source": [
    "lst4.extend(lst1)\n",
    "print(lst4)"
   ]
  },
  {
   "cell_type": "markdown",
   "metadata": {},
   "source": [
    "5. __Remove()__\n",
    "\n",
    "Syntax : list.remove(element)\n",
    "\n",
    "It removes the firtst occurance of the element from the list. If element is not in the list than it will raise a ValueError."
   ]
  },
  {
   "cell_type": "code",
   "execution_count": 9,
   "metadata": {},
   "outputs": [
    {
     "name": "stdout",
     "output_type": "stream",
     "text": [
      "[1, 3, 4, 3, 4]\n"
     ]
    }
   ],
   "source": [
    "c = [1,2,3,4,3,4]\n",
    "c.remove(2)\n",
    "print(c)"
   ]
  },
  {
   "cell_type": "code",
   "execution_count": 10,
   "metadata": {},
   "outputs": [
    {
     "ename": "ValueError",
     "evalue": "list.remove(x): x not in list",
     "output_type": "error",
     "traceback": [
      "\u001b[1;31m---------------------------------------------------------------------------\u001b[0m",
      "\u001b[1;31mValueError\u001b[0m                                Traceback (most recent call last)",
      "\u001b[1;32m<ipython-input-10-b4d051d0e502>\u001b[0m in \u001b[0;36m<module>\u001b[1;34m\u001b[0m\n\u001b[1;32m----> 1\u001b[1;33m \u001b[0mc\u001b[0m\u001b[1;33m.\u001b[0m\u001b[0mremove\u001b[0m\u001b[1;33m(\u001b[0m\u001b[1;36m2\u001b[0m\u001b[1;33m)\u001b[0m\u001b[1;33m\u001b[0m\u001b[1;33m\u001b[0m\u001b[0m\n\u001b[0m",
      "\u001b[1;31mValueError\u001b[0m: list.remove(x): x not in list"
     ]
    }
   ],
   "source": [
    "c.remove(2)"
   ]
  },
  {
   "cell_type": "markdown",
   "metadata": {},
   "source": [
    "6. __Concatenation__ \"+\" adding two list\n",
    "\n",
    "Concatination produces a new list.\n",
    "\n",
    "Note : While updating a list inside a function with + will not reflect outside the function."
   ]
  },
  {
   "cell_type": "code",
   "execution_count": 3,
   "metadata": {},
   "outputs": [
    {
     "name": "stdout",
     "output_type": "stream",
     "text": [
      "[1, 2, 3, 4, 5, 6]\n",
      "Location of list3 is  1825809827016\n",
      "Location of list3 has changed now  1825809020040\n"
     ]
    }
   ],
   "source": [
    "lst1 = [1,2,3]\n",
    "lst2 = [4,5,6]\n",
    "lst3 = lst1+lst2\n",
    "print(lst3)\n",
    "print(\"Location of list3 is \", id(lst3))\n",
    "\n",
    "lst3 = lst3 + lst2[1:2]\n",
    "print(\"Location of list3 has changed now \", id(lst3))\n"
   ]
  },
  {
   "cell_type": "code",
   "execution_count": 5,
   "metadata": {},
   "outputs": [
    {
     "name": "stdout",
     "output_type": "stream",
     "text": [
      "Inside list is  [1, 2, 3, 4, 2, 3]\n",
      "[1, 2, 3, 4]\n"
     ]
    }
   ],
   "source": [
    "# list updated inside the function using + will not reflect outside the function\n",
    "\n",
    "def fun(list):\n",
    "    list = list + list[1:3]\n",
    "    print(\"Inside list is \", list)\n",
    "    return list\n",
    "    \n",
    "list = [1,2,3,4]\n",
    "fun(list)\n",
    "print(list)"
   ]
  },
  {
   "cell_type": "markdown",
   "metadata": {},
   "source": [
    "7. __pop()__\n",
    "\n",
    "Syntax : list.pop(element)\n",
    "\n",
    "Remove the element from the list and returns it. If no element provided it removes and returns the last element from the list."
   ]
  },
  {
   "cell_type": "code",
   "execution_count": 51,
   "metadata": {},
   "outputs": [
    {
     "name": "stdout",
     "output_type": "stream",
     "text": [
      "4\n",
      "[1, 2, 3, 5, 6]\n",
      "6\n"
     ]
    }
   ],
   "source": [
    "print(lst3.pop(3))\n",
    "\n",
    "print(lst3)\n",
    "\n",
    "print(lst3.pop())"
   ]
  },
  {
   "cell_type": "markdown",
   "metadata": {},
   "source": [
    "8. __clear()__\n",
    "\n",
    "Syntax : list.clear()\n",
    "\n",
    "Removes all elements from the list"
   ]
  },
  {
   "cell_type": "code",
   "execution_count": 52,
   "metadata": {},
   "outputs": [
    {
     "name": "stdout",
     "output_type": "stream",
     "text": [
      "[1, 2, 3]\n",
      "[]\n"
     ]
    }
   ],
   "source": [
    "print(lst1)\n",
    "\n",
    "lst1.clear()\n",
    "print(lst1)"
   ]
  },
  {
   "cell_type": "markdown",
   "metadata": {},
   "source": [
    "9. __del__\n",
    "\n",
    "Syntax : del lst[index]\n",
    "\n",
    "Remove element based on index. If no index provided deletes complete list"
   ]
  },
  {
   "cell_type": "code",
   "execution_count": 53,
   "metadata": {},
   "outputs": [
    {
     "name": "stdout",
     "output_type": "stream",
     "text": [
      "[4, 6]\n"
     ]
    },
    {
     "ename": "NameError",
     "evalue": "name 'lst2' is not defined",
     "output_type": "error",
     "traceback": [
      "\u001b[1;31m---------------------------------------------------------------------------\u001b[0m",
      "\u001b[1;31mNameError\u001b[0m                                 Traceback (most recent call last)",
      "\u001b[1;32m<ipython-input-53-5fd89f7e3a91>\u001b[0m in \u001b[0;36m<module>\u001b[1;34m\u001b[0m\n\u001b[0;32m      2\u001b[0m \u001b[0mprint\u001b[0m\u001b[1;33m(\u001b[0m\u001b[0mlst2\u001b[0m\u001b[1;33m)\u001b[0m\u001b[1;33m\u001b[0m\u001b[1;33m\u001b[0m\u001b[0m\n\u001b[0;32m      3\u001b[0m \u001b[1;32mdel\u001b[0m \u001b[0mlst2\u001b[0m\u001b[1;33m\u001b[0m\u001b[1;33m\u001b[0m\u001b[0m\n\u001b[1;32m----> 4\u001b[1;33m \u001b[0mprint\u001b[0m\u001b[1;33m(\u001b[0m\u001b[0mlst2\u001b[0m\u001b[1;33m)\u001b[0m\u001b[1;33m\u001b[0m\u001b[1;33m\u001b[0m\u001b[0m\n\u001b[0m",
      "\u001b[1;31mNameError\u001b[0m: name 'lst2' is not defined"
     ]
    }
   ],
   "source": [
    "del lst2[1]\n",
    "print(lst2)\n",
    "\n",
    "del lst2        # complete list has been deleted\n",
    "print(lst2)"
   ]
  },
  {
   "cell_type": "markdown",
   "metadata": {},
   "source": [
    "10. __Reverse__\n",
    "\n",
    "Syntax : list.reverse()\n",
    "\n",
    "Reverse the element in the list."
   ]
  },
  {
   "cell_type": "code",
   "execution_count": 56,
   "metadata": {},
   "outputs": [
    {
     "name": "stdout",
     "output_type": "stream",
     "text": [
      "[1, 2, 3, 5]\n",
      "[5, 3, 2, 1]\n"
     ]
    }
   ],
   "source": [
    "print(lst3)\n",
    "\n",
    "lst3.reverse()\n",
    "print(lst3)"
   ]
  },
  {
   "cell_type": "code",
   "execution_count": 62,
   "metadata": {},
   "outputs": [
    {
     "name": "stdout",
     "output_type": "stream",
     "text": [
      "Help on method_descriptor:\n",
      "\n",
      "sort(self, /, *, key=None, reverse=False)\n",
      "    Stable sort *IN PLACE*.\n",
      "\n",
      "None\n"
     ]
    }
   ],
   "source": [
    "print(help(list.sort))"
   ]
  },
  {
   "cell_type": "markdown",
   "metadata": {},
   "source": [
    "11. __Sort__\n",
    "\n",
    "Syntax : list.sort(key = None, reverse = False)\n",
    "\n",
    "It modifies the original list and returns None. This function is only defined for list.\n",
    "\n",
    "The key parameter should be a function which takes a single argument and returns a key for use of sorting."
   ]
  },
  {
   "cell_type": "code",
   "execution_count": 64,
   "metadata": {},
   "outputs": [
    {
     "name": "stdout",
     "output_type": "stream",
     "text": [
      "[1, 2, 3, 3, 5, 6]\n",
      "[6, 5, 3, 3, 2, 1]\n"
     ]
    }
   ],
   "source": [
    "lst = [5,3,6,1,3,2]\n",
    "lst.sort()\n",
    "print(lst)\n",
    "\n",
    "lst.sort(reverse = True)\n",
    "print(lst)"
   ]
  },
  {
   "cell_type": "code",
   "execution_count": 69,
   "metadata": {},
   "outputs": [
    {
     "name": "stdout",
     "output_type": "stream",
     "text": [
      "[['varun', 30], ['nanda', 40], ['ashu', 50], ['ashish', 60]]\n"
     ]
    }
   ],
   "source": [
    "student = [[\"ashu\",50],[\"nanda\",40],[\"ashish\",60],[\"varun\",30]]\n",
    "student.sort(key = lambda x : x[1])\n",
    "print(student)"
   ]
  },
  {
   "cell_type": "markdown",
   "metadata": {},
   "source": [
    "12. __Count__\n",
    "\n",
    "Syntax : list.count(element)\n",
    "\n",
    "Returns the number of times an element found in that list.\n"
   ]
  },
  {
   "cell_type": "code",
   "execution_count": 71,
   "metadata": {},
   "outputs": [
    {
     "name": "stdout",
     "output_type": "stream",
     "text": [
      "[6, 5, 3, 3, 2, 1]\n",
      "2\n"
     ]
    }
   ],
   "source": [
    "print(lst)\n",
    "print(lst.count(3))"
   ]
  },
  {
   "cell_type": "markdown",
   "metadata": {},
   "source": [
    "13. __Copy__\n",
    "\n",
    "Syntax : list.copy()\n",
    "\n",
    "Retuns a shallow copy of the list, it is similar to list[:]. It makes a fresh copy of the list."
   ]
  },
  {
   "cell_type": "code",
   "execution_count": 72,
   "metadata": {},
   "outputs": [
    {
     "name": "stdout",
     "output_type": "stream",
     "text": [
      "[6, 5, 3, 3, 2, 1]\n"
     ]
    }
   ],
   "source": [
    "new_lst = lst.copy()\n",
    "print(new_lst)"
   ]
  },
  {
   "cell_type": "code",
   "execution_count": 74,
   "metadata": {},
   "outputs": [
    {
     "name": "stdout",
     "output_type": "stream",
     "text": [
      "False\n"
     ]
    }
   ],
   "source": [
    "print(new_lst is lst)        "
   ]
  },
  {
   "cell_type": "markdown",
   "metadata": {},
   "source": [
    "####  List as Stack\n",
    "\n",
    "List can be used as a stack i.e.. \"Last in First out\". To achive this we use append() to add to the list and pop() to remove from the list. We can define a class for stack."
   ]
  },
  {
   "cell_type": "code",
   "execution_count": 75,
   "metadata": {},
   "outputs": [
    {
     "name": "stdout",
     "output_type": "stream",
     "text": [
      "[1, 2, 3, 4, 5]\n"
     ]
    }
   ],
   "source": [
    "stack = [1,2,3]\n",
    "stack.append(4)\n",
    "stack.append(5)\n",
    "print(stack)"
   ]
  },
  {
   "cell_type": "code",
   "execution_count": 76,
   "metadata": {},
   "outputs": [
    {
     "name": "stdout",
     "output_type": "stream",
     "text": [
      "5\n",
      "[1, 2, 3, 4]\n"
     ]
    }
   ],
   "source": [
    "print(stack.pop())\n",
    "print(stack)"
   ]
  },
  {
   "cell_type": "markdown",
   "metadata": {},
   "source": [
    "###  List Comprehensions\n",
    "\n",
    "It provides an elegant way to define a list."
   ]
  },
  {
   "cell_type": "code",
   "execution_count": 78,
   "metadata": {},
   "outputs": [
    {
     "name": "stdout",
     "output_type": "stream",
     "text": [
      "[1, 4, 9, 16]\n"
     ]
    }
   ],
   "source": [
    "# creating a list without list comprehensions\n",
    "\n",
    "# creating a list where we will append square of numbers\n",
    "sqr = []\n",
    "\n",
    "for i in range(1,5):\n",
    "    sqr = sqr+[i**2]\n",
    "\n",
    "print(sqr)"
   ]
  },
  {
   "cell_type": "code",
   "execution_count": 79,
   "metadata": {},
   "outputs": [
    {
     "name": "stdout",
     "output_type": "stream",
     "text": [
      "[1, 4, 9, 16]\n"
     ]
    }
   ],
   "source": [
    "# creating the same list with list comprehensions\n",
    "\n",
    "sqr = [i**2 for i in range(1,5)]\n",
    "print(sqr)"
   ]
  },
  {
   "cell_type": "code",
   "execution_count": 82,
   "metadata": {},
   "outputs": [
    {
     "name": "stdout",
     "output_type": "stream",
     "text": [
      "[[1, 2, 3, 4], [1, 2, 3, 4], [1, 2, 3, 4]]\n"
     ]
    }
   ],
   "source": [
    "# nested list comprehension\n",
    "# defining a matrix for 3x4\n",
    "# without list comprehension\n",
    "\n",
    "matrix = []\n",
    "\n",
    "for i in range(3):\n",
    "    lst = []\n",
    "    for k in range(1,5):\n",
    "        lst.append(k)\n",
    "    matrix.append(lst)\n",
    "    \n",
    "print(matrix)"
   ]
  },
  {
   "cell_type": "code",
   "execution_count": 16,
   "metadata": {},
   "outputs": [
    {
     "name": "stdout",
     "output_type": "stream",
     "text": [
      "[[1, 2, 3, 4], [1, 2, 3, 4], [1, 2, 3, 4]]\n"
     ]
    }
   ],
   "source": [
    "# list comprehensions\n",
    "\n",
    "new_matrix =[[k for k in range(1,5)] for i in range(3)]\n",
    "print(new_matrix)"
   ]
  }
 ],
 "metadata": {
  "kernelspec": {
   "display_name": "Python 3",
   "language": "python",
   "name": "python3"
  },
  "language_info": {
   "codemirror_mode": {
    "name": "ipython",
    "version": 3
   },
   "file_extension": ".py",
   "mimetype": "text/x-python",
   "name": "python",
   "nbconvert_exporter": "python",
   "pygments_lexer": "ipython3",
   "version": "3.7.3"
  }
 },
 "nbformat": 4,
 "nbformat_minor": 4
}
