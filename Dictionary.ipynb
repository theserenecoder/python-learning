{
 "cells": [
  {
   "cell_type": "markdown",
   "metadata": {},
   "source": [
    "## Dictionary\n",
    "\n",
    "- Dictionary are unordered collection of items which are store in Key:Value pair.\n",
    "- Dictionary is an Associated Array - a store of values which accessed through keys which are not a position but an arbitary values.\n",
    "- Keys in dictionary doesn't allow polymorphism.\n",
    "- Any immitable type can be a Key:\n",
    "    - int, float, bool, tuple\n",
    "    - But not list or dictionary\n",
    "- Dictionaries are mutable but cannot be indexed."
   ]
  },
  {
   "cell_type": "code",
   "execution_count": 92,
   "metadata": {},
   "outputs": [
    {
     "name": "stdout",
     "output_type": "stream",
     "text": [
      "{}\n",
      "{}\n",
      "{'a': 3, 'b': 4}\n",
      "{'E': 5, 'F': 6, 'H': 7}\n",
      "{'a': 1, 'b': 3}\n",
      "{'A': 1, 'B': 2, 'C': 3}\n"
     ]
    }
   ],
   "source": [
    "# Dictionary Creation\n",
    "\n",
    "# an empty dictionary    \n",
    "\n",
    "# if no positional argument is given empty dictionary is created\n",
    "d1 = {} \n",
    "d2 = dict()\n",
    "\n",
    "# if a positional argument is given and it is a mapping object, \n",
    "# dictionary will be created with same key value pair as the mapping object.\n",
    "d3 = dict(a=3,b=4)\n",
    "\n",
    "# else, positional argument must be an iterable object, each item in iterable object must itself be iterable having 2 objects\n",
    "d4 = dict([('E',5),('F',6),['H',7]])\n",
    "\n",
    "# Keyword argument and their values be added to the dictionary.\n",
    "# if a key is already present it will be replaced with keyword value\n",
    "d5 = dict({'a':1,'b':2}, b = 3)\n",
    "\n",
    "# comma seperated key value pairs in curly brackets\n",
    "d6 = {'A':1,'B':2,'C':3}\n",
    "\n",
    "print(d1)\n",
    "print(d2)\n",
    "print(d3)\n",
    "print(d4)\n",
    "print(d5)\n",
    "print(d6)"
   ]
  },
  {
   "cell_type": "code",
   "execution_count": 32,
   "metadata": {},
   "outputs": [
    {
     "name": "stdout",
     "output_type": "stream",
     "text": [
      "{'Test1': {'Dhawan': 84, 'Kohli': 100}, 'Test2': {'Dhawan': 27, 'Kohli': 200}}\n"
     ]
    }
   ],
   "source": [
    "# creating nested Dictionaries\n",
    "Score = {\"Test1\" : {\"Dhawan\" : 84, \"Kohli\" : 100}, \"Test2\" : {\"Dhawan\" : 27, \"Kohli\" : 200}}\n",
    "print(Score)"
   ]
  },
  {
   "cell_type": "markdown",
   "metadata": {},
   "source": [
    "#### Accessing a Dictionary\n",
    "\n",
    "To access items in dictionary refer to it's key name. Key can be used in square brackets.\n",
    "\n",
    "Printing a value in dictionary"
   ]
  },
  {
   "cell_type": "code",
   "execution_count": 30,
   "metadata": {},
   "outputs": [
    {
     "name": "stdout",
     "output_type": "stream",
     "text": [
      "1\n",
      "-------------------------------------\n",
      "A\n",
      "B\n",
      "C\n",
      "-------------------------------------\n",
      "Ashu\n",
      "Bharat\n",
      "Shobhit\n"
     ]
    }
   ],
   "source": [
    "# printing a value in dictionary\n",
    "print(b['A'])\n",
    "\n",
    "print(\"-------------------------------------\")\n",
    "# printing all keys in dictionary\n",
    "for i in b:\n",
    "    print(i)\n",
    "print(\"-------------------------------------\")\n",
    "# printing all values in dictionary\n",
    "mydict = {1:\"Ashu\",2:'Bharat',3:'Shobhit'}\n",
    "for i in mydict:\n",
    "    print(mydict[i])"
   ]
  },
  {
   "cell_type": "code",
   "execution_count": 34,
   "metadata": {},
   "outputs": [
    {
     "name": "stdout",
     "output_type": "stream",
     "text": [
      "{'Dhawan': 27, 'Kohli': 200}\n",
      "100\n"
     ]
    }
   ],
   "source": [
    "# Accessing nested dict\n",
    "print(Score[\"Test2\"])\n",
    "print(Score[\"Test1\"][\"Kohli\"])"
   ]
  },
  {
   "cell_type": "markdown",
   "metadata": {},
   "source": [
    "####  Adding or Modifing dict values"
   ]
  },
  {
   "cell_type": "code",
   "execution_count": 44,
   "metadata": {},
   "outputs": [
    {
     "data": {
      "text/plain": [
       "{1: 'Ashu', 2: 'Bharat', 3: 'Shanu', 4: 'Shobhit'}"
      ]
     },
     "execution_count": 44,
     "metadata": {},
     "output_type": "execute_result"
    }
   ],
   "source": [
    "# modifing value\n",
    "mydict[3] = \"Shanu\"\n",
    "mydict"
   ]
  },
  {
   "cell_type": "code",
   "execution_count": 45,
   "metadata": {},
   "outputs": [
    {
     "data": {
      "text/plain": [
       "{1: 'Ashu', 2: 'Bharat', 3: 'Shanu', 4: 'Shobhit'}"
      ]
     },
     "execution_count": 45,
     "metadata": {},
     "output_type": "execute_result"
    }
   ],
   "source": [
    "# adding key and value to a dict\n",
    "mydict[4] = \"Shobhit\"\n",
    "mydict"
   ]
  },
  {
   "cell_type": "markdown",
   "metadata": {},
   "source": [
    "###  Dictionary Methods\n",
    "\n",
    "1. copy()\n",
    "2. fromkeys()\n",
    "\n",
    "**Accessing Elements**\n",
    "\n",
    "3. get()\n",
    "4. items()\n",
    "5. keys()\n",
    "6. values()\n",
    "\n",
    "**Adding/Updating Elements**\n",
    "\n",
    "7. update()\n",
    "\n",
    "**Deleting**\n",
    "\n",
    "8. pop()\n",
    "9. popitem()\n",
    "10. clear()\n",
    "\n",
    "\n",
    "\n"
   ]
  },
  {
   "cell_type": "markdown",
   "metadata": {},
   "source": [
    "\n",
    "\n",
    "1. **copy()** \n",
    "\n",
    "It returns a shallow copy of the dictionary\n",
    "\n",
    "Syntax : d.copy()"
   ]
  },
  {
   "cell_type": "code",
   "execution_count": 111,
   "metadata": {},
   "outputs": [
    {
     "name": "stdout",
     "output_type": "stream",
     "text": [
      "{1: 'Delhi', 2: 'Bangalore', 3: 'Shanu', 4: 'Shobhit', 'a': 110001}\n"
     ]
    }
   ],
   "source": [
    "my = mydict.copy()\n",
    "print(my)"
   ]
  },
  {
   "cell_type": "markdown",
   "metadata": {},
   "source": [
    "2. **fromkeys()** \n",
    "\n",
    "It creates a new dictionary with keys from iterable and values set to values\n",
    "\n",
    "Syntax : new_dict.fromkeys(iterable, value=None, /)"
   ]
  },
  {
   "cell_type": "code",
   "execution_count": 95,
   "metadata": {},
   "outputs": [
    {
     "name": "stdout",
     "output_type": "stream",
     "text": [
      "{'Math': 70, 'English': 70, 'Hindi': 70}\n",
      "{'a': 'vowel', 'e': 'vowel', 'i': 'vowel', 'o': 'vowel', 'u': 'vowel'}\n"
     ]
    }
   ],
   "source": [
    "new_dict = {}.fromkeys(['Math','English','Hindi'],70)\n",
    "print(new_dict)\n",
    "\n",
    "key = ['a','e','i','o','u']\n",
    "values = \"vowel\"\n",
    "dict2 = {}.fromkeys(key,values)\n",
    "print(dict2)"
   ]
  },
  {
   "cell_type": "markdown",
   "metadata": {},
   "source": [
    "3. **get()**\n",
    "\n",
    "If key is not defined in the dictionary than it will throw a Key Error. To overcome this we need to use dict.get() and if key will not be there it will return default.\n",
    "\n",
    "Syntax : d.get(key, default=None)"
   ]
  },
  {
   "cell_type": "code",
   "execution_count": 119,
   "metadata": {},
   "outputs": [
    {
     "ename": "KeyError",
     "evalue": "6",
     "output_type": "error",
     "traceback": [
      "\u001b[1;31m---------------------------------------------------------------------------\u001b[0m",
      "\u001b[1;31mKeyError\u001b[0m                                  Traceback (most recent call last)",
      "\u001b[1;32m<ipython-input-119-605b22c27a6a>\u001b[0m in \u001b[0;36m<module>\u001b[1;34m\u001b[0m\n\u001b[1;32m----> 1\u001b[1;33m \u001b[0mprint\u001b[0m\u001b[1;33m(\u001b[0m\u001b[0mmydict\u001b[0m\u001b[1;33m[\u001b[0m\u001b[1;36m6\u001b[0m\u001b[1;33m]\u001b[0m\u001b[1;33m)\u001b[0m\u001b[1;33m\u001b[0m\u001b[1;33m\u001b[0m\u001b[0m\n\u001b[0m",
      "\u001b[1;31mKeyError\u001b[0m: 6"
     ]
    }
   ],
   "source": [
    "print(mydict[6])"
   ]
  },
  {
   "cell_type": "code",
   "execution_count": 121,
   "metadata": {},
   "outputs": [
    {
     "name": "stdout",
     "output_type": "stream",
     "text": [
      "element not found\n"
     ]
    }
   ],
   "source": [
    "print(mydict.get(6,\"element not found\"))"
   ]
  },
  {
   "cell_type": "markdown",
   "metadata": {},
   "source": [
    "4. **items()**\n",
    "\n",
    "Return the dictionary as a tuple pair of Key and Value\n",
    "\n",
    "Syntax : dname.items()"
   ]
  },
  {
   "cell_type": "code",
   "execution_count": 96,
   "metadata": {},
   "outputs": [
    {
     "data": {
      "text/plain": [
       "dict_items([(1, 'Ashu'), (2, 'Bharat'), (3, 'Shanu'), (4, 'Shobhit')])"
      ]
     },
     "execution_count": 96,
     "metadata": {},
     "output_type": "execute_result"
    }
   ],
   "source": [
    "mydict.items()"
   ]
  },
  {
   "cell_type": "markdown",
   "metadata": {},
   "source": [
    "5. **keys()**\n",
    "\n",
    "Returns a sequence of dictionary keys.\n",
    "\n",
    "Syntax : d.keys()\n",
    "    \n",
    "- dname.keys() is in the same order as inserted order.\n",
    "- One thing to keep in mind is that dname.keys() does not return a list"
   ]
  },
  {
   "cell_type": "code",
   "execution_count": 98,
   "metadata": {},
   "outputs": [
    {
     "name": "stdout",
     "output_type": "stream",
     "text": [
      "dict_keys([1, 2, 3, 4])\n",
      "<class 'dict_keys'>\n"
     ]
    }
   ],
   "source": [
    "print(mydict.keys())            \n",
    "print(type(mydict.keys()))      # does not return a list"
   ]
  },
  {
   "cell_type": "code",
   "execution_count": 100,
   "metadata": {},
   "outputs": [
    {
     "data": {
      "text/plain": [
       "[1, 2, 3, 4]"
      ]
     },
     "execution_count": 100,
     "metadata": {},
     "output_type": "execute_result"
    }
   ],
   "source": [
    "# to convert to a list\n",
    "list(mydict.keys())"
   ]
  },
  {
   "cell_type": "markdown",
   "metadata": {},
   "source": [
    "6. **values()**\n",
    "\n",
    "Return a sequence of dict values.\n",
    "\n",
    "Syntax : d.values()"
   ]
  },
  {
   "cell_type": "code",
   "execution_count": 101,
   "metadata": {},
   "outputs": [
    {
     "data": {
      "text/plain": [
       "dict_values(['Ashu', 'Bharat', 'Shanu', 'Shobhit'])"
      ]
     },
     "execution_count": 101,
     "metadata": {},
     "output_type": "execute_result"
    }
   ],
   "source": [
    "mydict.values()"
   ]
  },
  {
   "cell_type": "markdown",
   "metadata": {},
   "source": [
    "7. **update()**\n",
    "\n",
    "Dictionary object or an iterable in key:value pair. If a keyword argument is given then, dict will be updated with those key value pair.\n",
    "\n",
    "Syntax : d.update((iterable)**kewarg)"
   ]
  },
  {
   "cell_type": "code",
   "execution_count": 105,
   "metadata": {},
   "outputs": [
    {
     "name": "stdout",
     "output_type": "stream",
     "text": [
      "{1: 'Delhi', 2: 'b', 3: 'Shanu', 4: 'Shobhit', 'a': 1}\n",
      "{1: 'Delhi', 2: 'Bangalore', 3: 'Shanu', 4: 'Shobhit', 'a': 110001}\n"
     ]
    }
   ],
   "source": [
    "mydict.update({'a':1,2:\"b\"})\n",
    "print(mydict)\n",
    "\n",
    "mydict.update([(1,'Delhi'),(2,\"Bangalore\")], a=110001)\n",
    "print(mydict)"
   ]
  },
  {
   "cell_type": "markdown",
   "metadata": {},
   "source": [
    "8. **pop()**\n",
    "\n",
    "Removes and returns a particular value from the dictionary given a key\n",
    "\n",
    "Syntax : d.pop(key,d)  \n",
    "  \n",
    "If key is not found, d is returned if given, otherwise KeyError is raised"
   ]
  },
  {
   "cell_type": "code",
   "execution_count": 112,
   "metadata": {},
   "outputs": [
    {
     "name": "stdout",
     "output_type": "stream",
     "text": [
      "Bangalore\n",
      "{1: 'Delhi', 3: 'Shanu', 4: 'Shobhit', 'a': 110001}\n"
     ]
    }
   ],
   "source": [
    "print(my.pop(2))\n",
    "print(my)"
   ]
  },
  {
   "cell_type": "code",
   "execution_count": 115,
   "metadata": {},
   "outputs": [
    {
     "name": "stdout",
     "output_type": "stream",
     "text": [
      "key not found\n"
     ]
    }
   ],
   "source": [
    "print(my.pop(7,\"key not found\"))"
   ]
  },
  {
   "cell_type": "markdown",
   "metadata": {},
   "source": [
    "9. **popitem()**\n",
    "\n",
    "Removes an arbitary key-value pair and returns it as a tuple. If dict is empty than throws an Key Error.\n",
    "\n",
    "Syntax : d.popitem()"
   ]
  },
  {
   "cell_type": "code",
   "execution_count": 116,
   "metadata": {},
   "outputs": [
    {
     "name": "stdout",
     "output_type": "stream",
     "text": [
      "('a', 110001)\n",
      "{1: 'Delhi', 3: 'Shanu', 4: 'Shobhit'}\n"
     ]
    }
   ],
   "source": [
    "print(my.popitem())\n",
    "print(my)"
   ]
  },
  {
   "cell_type": "markdown",
   "metadata": {},
   "source": [
    "10. **clear()**\n",
    "\n",
    "Removes all items from a dictionary and returns None\n",
    "\n",
    "Syntax : d.clear()"
   ]
  },
  {
   "cell_type": "code",
   "execution_count": 117,
   "metadata": {},
   "outputs": [
    {
     "name": "stdout",
     "output_type": "stream",
     "text": [
      "{}\n"
     ]
    }
   ],
   "source": [
    "my.clear()\n",
    "print(my)"
   ]
  },
  {
   "cell_type": "markdown",
   "metadata": {},
   "source": [
    "### Dict Comprehensions\n",
    "\n",
    "Similar to lists, python allows us to create dictionary comprehension using simple statement.\n",
    "\n",
    "Syntax : {key:value for (key,value) in iterable}"
   ]
  },
  {
   "cell_type": "code",
   "execution_count": 126,
   "metadata": {},
   "outputs": [
    {
     "name": "stdout",
     "output_type": "stream",
     "text": [
      "{'a': 1, 'b': 2, 'c': 3, 'd': 4}\n"
     ]
    }
   ],
   "source": [
    "key = ['a','b','c','d']\n",
    "value = [1,2,3,4]\n",
    "\n",
    "my_dict = {k:v for k,v in zip(key,value)}\n",
    "print(my_dict) "
   ]
  }
 ],
 "metadata": {
  "kernelspec": {
   "display_name": ".conda",
   "language": "python",
   "name": "python3"
  },
  "language_info": {
   "codemirror_mode": {
    "name": "ipython",
    "version": 3
   },
   "file_extension": ".py",
   "mimetype": "text/x-python",
   "name": "python",
   "nbconvert_exporter": "python",
   "pygments_lexer": "ipython3",
   "version": "3.12.11"
  }
 },
 "nbformat": 4,
 "nbformat_minor": 4
}
