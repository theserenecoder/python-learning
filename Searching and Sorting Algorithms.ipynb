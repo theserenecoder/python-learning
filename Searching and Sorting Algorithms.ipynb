{
 "cells": [
  {
   "cell_type": "markdown",
   "metadata": {},
   "source": [
    "###  Binary Search\n",
    "Binary search is a searching algorithm which searches a sorted array repeteadly by dividing it by half. If we find the number on middle we return, if the value of the search key is less than the element at middle we carry our search in the lower half of the array otherwise we search in upper half of the array and we carry it out until we found the value or the interval is empty\n",
    "\n",
    "With this algo we are only searching a certain portion of the array."
   ]
  },
  {
   "cell_type": "code",
   "execution_count": 1,
   "metadata": {},
   "outputs": [
    {
     "data": {
      "text/plain": [
       "True"
      ]
     },
     "execution_count": 1,
     "metadata": {},
     "output_type": "execute_result"
    }
   ],
   "source": [
    "def binarysearch(seq,num,l,u):\n",
    "    # this function will use binary search technique and takes 4 arguments. Sequence, search value, lower limit and upper limit\n",
    "    \n",
    "    # sorting the sequence\n",
    "    seq.sort()\n",
    "    \n",
    "    # finding the middle index of the list\n",
    "    mid = (u+l)//2\n",
    "    \n",
    "    # if middle value is less than upper limit only then it will check for condition otherwise it will return false\n",
    "    if mid < u:\n",
    "        \n",
    "        # if middle element is equal to search value than return True\n",
    "        if seq[mid] == num:\n",
    "            return True\n",
    "        \n",
    "        # if search value is less than middle element we again call the function with upper limit as middle index\n",
    "        elif seq[mid] > num:\n",
    "            return binarysearch(seq,num,l,mid)\n",
    "        \n",
    "        # if search value is greater than middle element we again call the function with lower limit  as next index from middle.\n",
    "        elif seq[mid] < num:\n",
    "            return binarysearch(seq,num,mid+1,u)\n",
    "        \n",
    "    # if element is not in list return False    \n",
    "    return False\n",
    "\n",
    "a = list(range(16))\n",
    "binarysearch(a,14,0,len(a))"
   ]
  },
  {
   "cell_type": "markdown",
   "metadata": {},
   "source": [
    "###  Selection Sort\n",
    "\n",
    "We search for the minimum value in the array/list and place it on index 0, then we search for second minimum value and place it on index 1. We keep doing this until we get a sorted array.\n",
    "\n",
    "Time Complexity = O(n**2)"
   ]
  },
  {
   "cell_type": "code",
   "execution_count": 2,
   "metadata": {},
   "outputs": [
    {
     "data": {
      "text/plain": [
       "[12, 18, 23, 34, 76]"
      ]
     },
     "execution_count": 2,
     "metadata": {},
     "output_type": "execute_result"
    }
   ],
   "source": [
    "def selectionsort(seq):\n",
    "    \n",
    "    for select in range(len(seq)):\n",
    "        \n",
    "        mini = select\n",
    "        \n",
    "        for i in range(mini,len(seq)):\n",
    "            \n",
    "            if seq[i] < seq[mini]:\n",
    "                mini = i\n",
    "        seq[select],seq[mini] = seq[mini], seq[select]\n",
    "        \n",
    "    return seq\n",
    "\n",
    "selectionsort([34,12,76,23,18])"
   ]
  },
  {
   "cell_type": "markdown",
   "metadata": {},
   "source": [
    "###  Insertion Sort\n",
    "\n",
    "It is the sorting algorithm to insert the element to it's correct position by comparing it with the previous element. If the current element is smaller than it's previos element than we swap the places and then check again.\n",
    "\n",
    "First element : remains on the same position\n",
    "\n",
    "Second element : check if it's is smaller than the first element, if yes we swap places.\n",
    "\n",
    "Third element : check if it is smaller than the second element, if yes we swap places and then check if it is also smaller than the first element and so on\n",
    "\n",
    "Time Complexity = O(n**2)\n",
    "\n"
   ]
  },
  {
   "cell_type": "code",
   "execution_count": 3,
   "metadata": {},
   "outputs": [
    {
     "data": {
      "text/plain": [
       "[12, 18, 23, 34, 76]"
      ]
     },
     "execution_count": 3,
     "metadata": {},
     "output_type": "execute_result"
    }
   ],
   "source": [
    "def insertionsort(seq):\n",
    "    \n",
    "    for select in range(len(seq)):\n",
    "        \n",
    "        pos = select\n",
    "        \n",
    "        # checking if \n",
    "        while (pos > 0) and (seq[pos] < seq[pos-1]):\n",
    "            (seq[pos-1],seq[pos]) = (seq[pos],seq[pos-1])\n",
    "            pos -= 1\n",
    "    return seq\n",
    "\n",
    "insertionsort([34,12,76,23,18])"
   ]
  },
  {
   "cell_type": "markdown",
   "metadata": {},
   "source": [
    "### Insertion Sort with Recurssion\n",
    "\n",
    "1. Define Base Case\n",
    "2. Inductive steps defined in terms of smaller arguments.For eg : \n",
    "\n",
    "    n! = n x (n-1)!\n",
    "    \n",
    "    m x n = m + m x (n-1)\n",
    "\n",
    "\n",
    "Time Complexity = O(n**2)"
   ]
  },
  {
   "cell_type": "code",
   "execution_count": 4,
   "metadata": {},
   "outputs": [
    {
     "data": {
      "text/plain": [
       "[12, 18, 23, 34, 76]"
      ]
     },
     "execution_count": 4,
     "metadata": {},
     "output_type": "execute_result"
    }
   ],
   "source": [
    "def sortinginsert(seq):\n",
    "    return isort(seq,len(seq))\n",
    "\n",
    "def isort(seq,k):\n",
    "    if k>1:\n",
    "        \n",
    "        isort(seq,k-1)       # providing the value of  k for sorting : 2,3,4,5\n",
    "        return insert(seq,k-1)\n",
    "    \n",
    "def insert(seq,k):\n",
    "    \n",
    "    pos = k\n",
    "    \n",
    "    while (pos>0) and (seq[pos]<seq[pos-1]):\n",
    "        seq[pos-1],seq[pos] = seq[pos],seq[pos-1]\n",
    "        pos -=1\n",
    "    return seq\n",
    "\n",
    "sortinginsert([34,12,76,23,18])"
   ]
  },
  {
   "cell_type": "markdown",
   "metadata": {},
   "source": [
    "Selection Sort and Insertion Sort though both are easy and similar to manual way of sorting, but there worst case complexity is of O(n**2) and it is infeasible for n above 5000."
   ]
  },
  {
   "cell_type": "markdown",
   "metadata": {},
   "source": [
    "###  Merge Sort\n",
    "\n",
    "In Merge sort, we will be dividing the array/list in two equal halfs and then sort these two equal halfs separately. Once both the list are sorted we will compare the fisrt element of both the array/list and will append the smallest of the two in the new list, we will continue this for all the elements. It is also known as divide and conquer technique.\n",
    "\n",
    "Suppose there is a list A with n elements, then for merge sort we will follow following steps : \n",
    "\n",
    "- Sort A[0 : n//2]   <--- Left\n",
    "- Sort A[n//2 : n]   <--- Right\n",
    "- We will sort the two halfs recursively.\n",
    "- Merge sorted half into a new list C[0 : n]\n",
    "\n",
    "To merge two sorted list, A and B\n",
    "- If A is empty copy B in list C.\n",
    "- If B is empty copy A in list C.\n",
    "- Else we will compare the first element of A and B and move the smaller emement into C. We will repeat these steps untill all the elements of A and B are copied into C.\n",
    "\n",
    "\n",
    "Time Complexity = n(log2 n) \n",
    "\n",
    "With mergesort we can quickly sort even n = 1,00,000 with approximately 17 recurssion calls as recusive call is 1 per half the list, so we are making only (log2 n) recursive calls"
   ]
  },
  {
   "cell_type": "code",
   "execution_count": 5,
   "metadata": {},
   "outputs": [],
   "source": [
    "def merge(A,B):\n",
    "    \n",
    "    # initialising an empty list and variables to store length of both the lists\n",
    "    (C,m,n) = ([],len(A),len(B))\n",
    "    \n",
    "    # i for list A index and j for list B index.\n",
    "    (i,j) = (0,0)\n",
    "    \n",
    "    # i+j are the elements which have been copied in to C so far.\n",
    "    while i+j < m+n:\n",
    "\n",
    "        # Case 1 if list A is empty\n",
    "        if i == m:\n",
    "            C.append(B[j])\n",
    "            j = j+1\n",
    "            \n",
    "        # Case 2 if list B is empty\n",
    "        elif j == n:\n",
    "            C.append(A[i])\n",
    "            i = i+1\n",
    "        \n",
    "        # Case 3 if element of list A is smaller than element of list B\n",
    "        elif A[i] <= B[j]:\n",
    "            C.append(A[i])\n",
    "            i = i+1\n",
    "        \n",
    "        # Case 4 if element of list B is smaller than element of list A\n",
    "        elif B[j] < A[i]:\n",
    "            C.append(B[j])\n",
    "            j = j+1  \n",
    "            \n",
    "    return C\n",
    "\n"
   ]
  },
  {
   "cell_type": "code",
   "execution_count": 7,
   "metadata": {},
   "outputs": [
    {
     "name": "stdout",
     "output_type": "stream",
     "text": [
      "[1, 2, 3, 4, 5, 6, 7, 8]\n"
     ]
    }
   ],
   "source": [
    "\n",
    "def mergesorti(seq,left,right):\n",
    "    \n",
    "    # if there is only 1 element left in the list\n",
    "    if (right-left) <= 1:\n",
    "        return (seq[left:right])\n",
    "    \n",
    "    # Recursive call\n",
    "    elif (right-left) > 1:\n",
    "\n",
    "        # middle index of the list\n",
    "        mid = (left+right)//2\n",
    "        \n",
    "        # dividing and sorting left and right of the list\n",
    "        l = mergesorti(seq,left,mid)\n",
    "        r = mergesorti(seq,mid,right)\n",
    "        \n",
    "        # returning the merged list\n",
    "        return merge(l,r)\n",
    "    \n",
    "a = [5,3,1,7,6,2,4,8]\n",
    "print(mergesorti(a,0,len(a)))"
   ]
  },
  {
   "cell_type": "markdown",
   "metadata": {},
   "source": [
    "#### Mergesort Cons\n",
    "\n",
    "Merge Sort will always create a new list as there no way for efficiently inplace merging and extra storage can be costly.\n",
    "\n",
    "Secondly Merge Sort is inherently recursive and recurssion calls require certain amaount of extra time as it suspends the current function store the values, perform new computation and restore the old vales which we had saved."
   ]
  },
  {
   "cell_type": "markdown",
   "metadata": {},
   "source": [
    "###  Set Difference\n",
    "\n",
    "Finding the elements which are only in 1st list."
   ]
  },
  {
   "cell_type": "code",
   "execution_count": 8,
   "metadata": {},
   "outputs": [
    {
     "data": {
      "text/plain": [
       "[1, 3]"
      ]
     },
     "execution_count": 8,
     "metadata": {},
     "output_type": "execute_result"
    }
   ],
   "source": [
    "def listdiff(A,B):\n",
    "    C,i,j = [],0,0\n",
    "    \n",
    "    while i < len(A):\n",
    "        \n",
    "        if A[i] == B[j]:\n",
    "            i = i+1\n",
    "            \n",
    "        elif A[i] > B[j]:\n",
    "            j = j+1\n",
    "            \n",
    "        elif B[j] > A[i]:\n",
    "            C.append(A[i])\n",
    "            i = i+1\n",
    "            \n",
    "    return C\n",
    "\n",
    "listdiff([1,2,3,6],[2,4,6,8])"
   ]
  },
  {
   "cell_type": "markdown",
   "metadata": {},
   "source": [
    "###  Quicksort\n",
    "\n",
    "Let's say if we can divide in a way such that elements on the left are all smaller than elements on the right. Then after sorting the two hals there will be no need of merging.\n",
    "\n",
    "This can be done via QuickSort. We can pick first element in the list and divide the list such that all the elements on the left of this element will be smaller and on right will be greater. Following are the steps:\n",
    "\n",
    "- Choose a pivot element:\n",
    "    - First element\n",
    "    - Last element\n",
    "    - Random element\n",
    "    - Median\n",
    "- Partition list A into lower and upper parts with respect to pivot.\n",
    "- Move the pivot between lower and upper partition.\n",
    "- Recursively sort the two partitions.\n",
    "\n",
    "\n",
    "Time Complexity : \n",
    "\n",
    "- Average Case : O(n(log2 n))\n",
    "- Worst Case : O(n**2)"
   ]
  },
  {
   "cell_type": "code",
   "execution_count": 1,
   "metadata": {},
   "outputs": [
    {
     "name": "stdout",
     "output_type": "stream",
     "text": [
      "[5, 10, 12, 19, 33, 43, 69, 92]\n"
     ]
    }
   ],
   "source": [
    "def quicksort(seq,l,r):\n",
    "    \n",
    "    # checking the base case if only 1 element left in list\n",
    "    if r-l <=1:\n",
    "        return \n",
    "    \n",
    "    # partition with respect to 1st element\n",
    "    yellow = l+1\n",
    "     \n",
    "    # comparing each element with first element\n",
    "    for green in range(l+1, r):\n",
    "        \n",
    "        if seq[green] < seq[l]:\n",
    "            seq[green],seq[yellow] = seq[yellow],seq[green]\n",
    "            yellow = yellow+1\n",
    "            \n",
    "    # moving first element into place\n",
    "    seq[l],seq[yellow-1] = seq[yellow-1],seq[l]\n",
    "    \n",
    "    # recursive calls    \n",
    "    quicksort(seq,l,yellow-1)\n",
    "    quicksort(seq,yellow,r)\n",
    "    \n",
    "    return seq\n",
    "\n",
    "lst = [43,12,10,69,33,92,5,19]\n",
    "print(quicksort(lst,0,len(lst)))"
   ]
  },
  {
   "cell_type": "code",
   "execution_count": null,
   "metadata": {},
   "outputs": [],
   "source": []
  }
 ],
 "metadata": {
  "kernelspec": {
   "display_name": "Python 3",
   "language": "python",
   "name": "python3"
  },
  "language_info": {
   "codemirror_mode": {
    "name": "ipython",
    "version": 3
   },
   "file_extension": ".py",
   "mimetype": "text/x-python",
   "name": "python",
   "nbconvert_exporter": "python",
   "pygments_lexer": "ipython3",
   "version": "3.7.3"
  }
 },
 "nbformat": 4,
 "nbformat_minor": 4
}
