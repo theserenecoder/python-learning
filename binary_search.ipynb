{
 "cells": [
  {
   "cell_type": "markdown",
   "id": "6de3cf7a",
   "metadata": {},
   "source": [
    "## Binary Search\n",
    "\n",
    "It can only be performed on a sorted array.\n",
    "\n",
    "1. We will consider the full array list. $start = 0$ and $end = n-1$\n",
    "2. Find the middle element. middle = $(end+start)//2$\n",
    "3. Compare the middle element with the target:\n",
    "    - If the element = target, we return the middle element index.\n",
    "    - If the element < target, we update the end = mid and re-iterate.\n",
    "    - If the element > target, we update the start = mid+1 and re-iterate\n",
    "4. If element not in list return -1"
   ]
  },
  {
   "cell_type": "code",
   "execution_count": null,
   "id": "30f17956",
   "metadata": {},
   "outputs": [],
   "source": [
    "def binary_search(lst,target, start, end):\n",
    "    \n",
    "    if len(lst)==0:\n",
    "        return -1\n",
    "    \n",
    "    mid = (end+start)//2\n",
    "    \n",
    "    if lst[mid]==target:\n",
    "        return mid\n",
    "    \n",
    "    elif lst[mid] < target and start != end:\n",
    "        return binary_search(lst,target,start=mid+1, end=end)\n",
    "    \n",
    "    elif lst[mid]> target and start != end:\n",
    "        return binary_search(lst,target,start=start, end=mid-1)\n",
    "\n",
    "    return -1\n",
    "    \n",
    "    "
   ]
  },
  {
   "cell_type": "code",
   "execution_count": 14,
   "id": "370c3308",
   "metadata": {},
   "outputs": [
    {
     "data": {
      "text/plain": [
       "3"
      ]
     },
     "execution_count": 14,
     "metadata": {},
     "output_type": "execute_result"
    }
   ],
   "source": [
    "nlst = [10,23,35,45,50,70,85]\n",
    "binary_search(nlst,45,0,len(nlst)-1)"
   ]
  },
  {
   "cell_type": "code",
   "execution_count": null,
   "id": "470fbd9c",
   "metadata": {},
   "outputs": [],
   "source": []
  }
 ],
 "metadata": {
  "kernelspec": {
   "display_name": ".conda",
   "language": "python",
   "name": "python3"
  },
  "language_info": {
   "codemirror_mode": {
    "name": "ipython",
    "version": 3
   },
   "file_extension": ".py",
   "mimetype": "text/x-python",
   "name": "python",
   "nbconvert_exporter": "python",
   "pygments_lexer": "ipython3",
   "version": "3.12.11"
  }
 },
 "nbformat": 4,
 "nbformat_minor": 5
}
