{
 "cells": [
  {
   "cell_type": "markdown",
   "metadata": {},
   "source": [
    "### Introduction\n",
    "\n",
    "Python is interpreted and Interpreter executes statements from top to bottom. Interpreter remembers the function definition and executes when an actual statement refers to it. Actual computation starts from statement 1.\n",
    "\n",
    "```Python\n",
    "def function_1(__,__):\n",
    "    ...\n",
    "    \n",
    "def function_2(__,__):\n",
    "    ...\n",
    "    \n",
    "statement_1\n",
    "statement_2```\n",
    "\n",
    "\n",
    "A function to be used should have been defined before calling either in-built or user defined. As per the __best practice__ all fuctions should be defined first and statements should be executed later.\n",
    "\n"
   ]
  },
  {
   "cell_type": "markdown",
   "metadata": {},
   "source": [
    "### Statement\n",
    "\n",
    "Instruction which can be executed by the interpreter are called statements.\n",
    "```Python\n",
    "a = 5\n",
    "b = a*2\n",
    "c = c+3\n",
    "```\n",
    "\n",
    "\n",
    "**Multiline Statement**\n",
    "```Python\n",
    "i = 1+2+3\\\n",
    "    +4+5+6\\\n",
    "    +7+8\n",
    "```\n",
    "    \n",
    "**Multiple Statement in single line**\n",
    "```Python\n",
    "a = 1; b = 2; c = 3\n",
    "```\n",
    "\n",
    "Left side is variable name and right side is expression. Operation on expressions depends on **type** of value."
   ]
  },
  {
   "cell_type": "markdown",
   "metadata": {},
   "source": [
    "###  Primitive Data Structures\n",
    "\n",
    "These are the building blocks for data manipulation and contains simple value of data.\n",
    "1. Int\n",
    "2. Float\n",
    "3. Bool\n",
    "4. Str"
   ]
  },
  {
   "cell_type": "markdown",
   "metadata": {},
   "source": [
    "### Numerical Values\n",
    "\n",
    "Number comes in two flavours; int and float.\n",
    "\n",
    "1. Int : this sequence is read of as a binary num.\n",
    "2. Float : this sequence break up into two parts **mantissa:0.620 and exponent : 10^24**\n"
   ]
  },
  {
   "cell_type": "code",
   "execution_count": 23,
   "metadata": {},
   "outputs": [],
   "source": [
    "a = 3\n",
    "b = 3.95\n",
    "c = 5+2j"
   ]
  },
  {
   "cell_type": "markdown",
   "metadata": {},
   "source": [
    "**Operations**\n",
    "\n",
    "1. type() : returns the class type of variable.\n",
    "2. isinstance() : check if variable belongs to a particular class.\n"
   ]
  },
  {
   "cell_type": "code",
   "execution_count": 14,
   "metadata": {},
   "outputs": [
    {
     "data": {
      "text/plain": [
       "int"
      ]
     },
     "execution_count": 14,
     "metadata": {},
     "output_type": "execute_result"
    }
   ],
   "source": [
    "a = 5              # not required to initialize the type of variable\n",
    "type(a)            # type method provides the data type of variable"
   ]
  },
  {
   "cell_type": "code",
   "execution_count": 15,
   "metadata": {},
   "outputs": [
    {
     "data": {
      "text/plain": [
       "float"
      ]
     },
     "execution_count": 15,
     "metadata": {},
     "output_type": "execute_result"
    }
   ],
   "source": [
    "b = 1.30           \n",
    "type(b)            "
   ]
  },
  {
   "cell_type": "code",
   "execution_count": 24,
   "metadata": {},
   "outputs": [
    {
     "data": {
      "text/plain": [
       "True"
      ]
     },
     "execution_count": 24,
     "metadata": {},
     "output_type": "execute_result"
    }
   ],
   "source": [
    "c = 1+2j\n",
    "isinstance(c,complex)"
   ]
  },
  {
   "cell_type": "markdown",
   "metadata": {},
   "source": [
    "### Boolean : bool\n",
    "\n",
    "It represents the truth value: **True, False**\n",
    "```Python\n",
    "a = True\n",
    "print(type(a))   # <------- Output : <class 'bool'>\n",
    "```"
   ]
  },
  {
   "cell_type": "code",
   "execution_count": 22,
   "metadata": {},
   "outputs": [
    {
     "name": "stdout",
     "output_type": "stream",
     "text": [
      "True\n",
      "False\n",
      "True\n"
     ]
    }
   ],
   "source": [
    "# multiple assignment of values\n",
    "a,b,c = 2,\"hello\",1.2  \n",
    "\n",
    "# comparing the expressions, if comparision succesd will return True else False\n",
    "print(a==2)\n",
    "print(b =='no')\n",
    "print(c !=4)"
   ]
  }
 ],
 "metadata": {
  "kernelspec": {
   "display_name": "Python 3",
   "language": "python",
   "name": "python3"
  },
  "language_info": {
   "codemirror_mode": {
    "name": "ipython",
    "version": 3
   },
   "file_extension": ".py",
   "mimetype": "text/x-python",
   "name": "python",
   "nbconvert_exporter": "python",
   "pygments_lexer": "ipython3",
   "version": "3.7.3"
  }
 },
 "nbformat": 4,
 "nbformat_minor": 2
}
