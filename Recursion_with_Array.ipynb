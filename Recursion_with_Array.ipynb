{
 "cells": [
  {
   "cell_type": "markdown",
   "id": "45edc7ab",
   "metadata": {},
   "source": [
    "## Recurssion with Array"
   ]
  },
  {
   "cell_type": "markdown",
   "id": "394db743",
   "metadata": {},
   "source": [
    "### Q1. Check if array is sorted or not. Using recursion. Draw recursion tree."
   ]
  },
  {
   "cell_type": "code",
   "execution_count": null,
   "id": "be9f2c52",
   "metadata": {},
   "outputs": [],
   "source": [
    "## check sorting\n",
    "\n",
    "def sortedArrayWithRecursion(l1):\n",
    "   \n",
    "   if len(l1)==0 or len(l1)==1:\n",
    "       return True\n",
    "   \n",
    "   sans = sortedArrayWithRecursion(l1[1:])\n",
    "   \n",
    "   if sans==False:\n",
    "       return False\n",
    "   \n",
    "   if l1[0]<l1[1]:\n",
    "       return True\n",
    "   else:\n",
    "       return False"
   ]
  },
  {
   "cell_type": "code",
   "execution_count": 4,
   "id": "da9cd510",
   "metadata": {},
   "outputs": [
    {
     "data": {
      "text/plain": [
       "True"
      ]
     },
     "execution_count": 4,
     "metadata": {},
     "output_type": "execute_result"
    }
   ],
   "source": [
    "sortedArrayWithRecursion([2,5,7,9,10])"
   ]
  },
  {
   "cell_type": "code",
   "execution_count": 5,
   "id": "88719316",
   "metadata": {},
   "outputs": [
    {
     "data": {
      "text/plain": [
       "False"
      ]
     },
     "execution_count": 5,
     "metadata": {},
     "output_type": "execute_result"
    }
   ],
   "source": [
    "sortedArrayWithRecursion([2,5,7,6,9,10])"
   ]
  },
  {
   "cell_type": "markdown",
   "id": "1637a46d",
   "metadata": {},
   "source": [
    "### better way tail recurssion"
   ]
  },
  {
   "cell_type": "code",
   "execution_count": 8,
   "id": "d90a910d",
   "metadata": {},
   "outputs": [],
   "source": [
    "def sortedArrayWithRecursionBetter(l1):\n",
    "    if len(l1)==0 or len(l1)==1:\n",
    "        return True\n",
    "    \n",
    "    if l1[0]>l1[1]:\n",
    "        return False\n",
    "    \n",
    "    return sortedArrayWithRecursionBetter(l1[1:])"
   ]
  },
  {
   "cell_type": "code",
   "execution_count": null,
   "id": "66e886b8",
   "metadata": {},
   "outputs": [
    {
     "data": {
      "text/plain": [
       "False"
      ]
     },
     "execution_count": 9,
     "metadata": {},
     "output_type": "execute_result"
    }
   ],
   "source": [
    "sortedArrayWithRecursionBetter([2,5,7,6,9,10])"
   ]
  },
  {
   "cell_type": "markdown",
   "id": "b0faddd2",
   "metadata": {},
   "source": [
    "### Q2. Given an array find the first, last and all indices of a number."
   ]
  },
  {
   "cell_type": "code",
   "execution_count": 23,
   "id": "ac16d9e3",
   "metadata": {},
   "outputs": [],
   "source": [
    "## first index\n",
    "\n",
    "def getFirstIndex(l1,n):\n",
    "    \n",
    "    if len(l1)==0:\n",
    "        return -1\n",
    "    \n",
    "    if l1[0]==n:\n",
    "        return 0\n",
    "    findex = getFirstIndex(l1[1:],n)+1\n",
    "    \n",
    "    if findex ==-1:\n",
    "        return -1\n",
    "    else:\n",
    "        return findex"
   ]
  },
  {
   "cell_type": "code",
   "execution_count": 24,
   "id": "e7fbb2ce",
   "metadata": {},
   "outputs": [
    {
     "data": {
      "text/plain": [
       "2"
      ]
     },
     "execution_count": 24,
     "metadata": {},
     "output_type": "execute_result"
    }
   ],
   "source": [
    "getFirstIndex([3,5,2,4,2,5,2,6],2)"
   ]
  },
  {
   "cell_type": "code",
   "execution_count": 29,
   "id": "167fbb59",
   "metadata": {},
   "outputs": [],
   "source": [
    "## last index\n",
    "def getLastIndex(l1,n):\n",
    "    \n",
    "    if len(l1)==0:\n",
    "        return -1\n",
    "    \n",
    "    lindex = getLastIndex(l1[1:],n)\n",
    "    \n",
    "    if lindex == -1:\n",
    "        if l1[0]==n:\n",
    "            return 0\n",
    "        return -1\n",
    "    else:\n",
    "        return lindex + 1"
   ]
  },
  {
   "cell_type": "code",
   "execution_count": 32,
   "id": "06a3ec36",
   "metadata": {},
   "outputs": [
    {
     "data": {
      "text/plain": [
       "7"
      ]
     },
     "execution_count": 32,
     "metadata": {},
     "output_type": "execute_result"
    }
   ],
   "source": [
    "getLastIndex([3,5,2,4,2,5,2,6],6)"
   ]
  },
  {
   "cell_type": "markdown",
   "id": "339a7dfd",
   "metadata": {},
   "source": [
    "## Print All Indices"
   ]
  },
  {
   "cell_type": "code",
   "execution_count": 75,
   "id": "0979883b",
   "metadata": {},
   "outputs": [],
   "source": [
    "def getAllIndex(l1,x,n=0):\n",
    "    \n",
    "    if n==len(l1):\n",
    "        return\n",
    "    \n",
    "    if l1[n]==x:\n",
    "        print(n)\n",
    "        \n",
    "    getAllIndex(l1,x,n+1)\n",
    "    \n",
    "\n",
    "        "
   ]
  },
  {
   "cell_type": "code",
   "execution_count": 77,
   "id": "c9314c7d",
   "metadata": {},
   "outputs": [
    {
     "name": "stdout",
     "output_type": "stream",
     "text": [
      "1\n",
      "3\n",
      "5\n"
     ]
    }
   ],
   "source": [
    "getAllIndex([3,2,5,2,4,2,5],2)"
   ]
  },
  {
   "cell_type": "code",
   "execution_count": 73,
   "id": "e2ea39c0",
   "metadata": {},
   "outputs": [
    {
     "name": "stdout",
     "output_type": "stream",
     "text": [
      "2\n"
     ]
    }
   ],
   "source": [
    "getAllIndex([2,3,6],6)"
   ]
  },
  {
   "cell_type": "code",
   "execution_count": 87,
   "id": "1fa1c9c3",
   "metadata": {},
   "outputs": [],
   "source": [
    "## Print reverse\n",
    "def getAllIndexRev(l1,x,n=0):\n",
    "    \n",
    "    if n==len(l1):\n",
    "        return\n",
    "    \n",
    "    getAllIndexRev(l1,x,n+1)\n",
    "    \n",
    "    if l1[n]==x:\n",
    "        print(n)\n"
   ]
  },
  {
   "cell_type": "code",
   "execution_count": 85,
   "id": "055cdcf0",
   "metadata": {},
   "outputs": [
    {
     "name": "stdout",
     "output_type": "stream",
     "text": [
      "5\n",
      "3\n",
      "1\n"
     ]
    }
   ],
   "source": [
    "getAllIndexRev([3,2,5,2,4,2,5],2,0)"
   ]
  },
  {
   "cell_type": "markdown",
   "id": "d3539c8a",
   "metadata": {},
   "source": [
    "## Print a list when an empty list provided"
   ]
  },
  {
   "cell_type": "code",
   "execution_count": 98,
   "id": "0fe2c06e",
   "metadata": {},
   "outputs": [],
   "source": [
    "def getAllIndexList(lst,x,elst,index=0):\n",
    "    \n",
    "    if len(lst)==index:\n",
    "        return\n",
    "    \n",
    "    if lst[index]==x:\n",
    "        elst.append(index)\n",
    "    getAllIndexList(lst,x,elst,index+1)\n",
    "    \n",
    "    "
   ]
  },
  {
   "cell_type": "code",
   "execution_count": 99,
   "id": "b7a7de0f",
   "metadata": {},
   "outputs": [],
   "source": [
    "alst = []\n",
    "getAllIndexList([3,2,5,2,4,2,5],2,alst)"
   ]
  },
  {
   "cell_type": "code",
   "execution_count": 100,
   "id": "d40f16c6",
   "metadata": {},
   "outputs": [
    {
     "data": {
      "text/plain": [
       "[1, 3, 5]"
      ]
     },
     "execution_count": 100,
     "metadata": {},
     "output_type": "execute_result"
    }
   ],
   "source": [
    "alst"
   ]
  },
  {
   "cell_type": "code",
   "execution_count": 101,
   "id": "c74b0624",
   "metadata": {},
   "outputs": [],
   "source": [
    "def getAllIndexNList(lst,x,elst=[],index=0):\n",
    "    \n",
    "    if len(lst)==index:\n",
    "        return\n",
    "    \n",
    "    if lst[index]==x:\n",
    "        elst.append(index)\n",
    "    getAllIndexNList(lst,x,elst,index+1)\n",
    "    \n",
    "    return elst"
   ]
  },
  {
   "cell_type": "code",
   "execution_count": 102,
   "id": "19551cf7",
   "metadata": {},
   "outputs": [
    {
     "data": {
      "text/plain": [
       "[1, 3, 5]"
      ]
     },
     "execution_count": 102,
     "metadata": {},
     "output_type": "execute_result"
    }
   ],
   "source": [
    "getAllIndexNList([3,2,5,2,4,2,5],2)"
   ]
  },
  {
   "cell_type": "markdown",
   "id": "0e3bf53f",
   "metadata": {},
   "source": [
    "### Provide a new list"
   ]
  },
  {
   "cell_type": "code",
   "execution_count": 106,
   "id": "61d14ef0",
   "metadata": {},
   "outputs": [],
   "source": [
    "def ReturnListAllIndex(lst,x,index=0):\n",
    "    anslsit = []\n",
    "    if index == len(lst):\n",
    "        return anslsit\n",
    "    \n",
    "    slist = ReturnListAllIndex(lst,x,index+1)\n",
    "    \n",
    "    if lst[index]==x:\n",
    "        slist.insert(0,index)\n",
    "        \n",
    "    return slist"
   ]
  },
  {
   "cell_type": "code",
   "execution_count": 107,
   "id": "946d2d19",
   "metadata": {},
   "outputs": [
    {
     "data": {
      "text/plain": [
       "[0, 1, 3, 5]"
      ]
     },
     "execution_count": 107,
     "metadata": {},
     "output_type": "execute_result"
    }
   ],
   "source": [
    "ReturnListAllIndex([2,2,5,2,8,2,1],2)"
   ]
  },
  {
   "cell_type": "code",
   "execution_count": 119,
   "id": "34c91900",
   "metadata": {},
   "outputs": [],
   "source": [
    "def ReturnListAllIndexNew(lst,x,index=0):\n",
    "    anslsit = []\n",
    "    if index == len(lst):\n",
    "        return anslsit\n",
    "    \n",
    "    slist = ReturnListAllIndexNew(lst,x,index+1)\n",
    "    \n",
    "    if lst[index]==x:\n",
    "        anslsit.append(index)\n",
    "    \n",
    "    anslsit.extend(slist)\n",
    "        \n",
    "    return anslsit"
   ]
  },
  {
   "cell_type": "code",
   "execution_count": 120,
   "id": "013317ba",
   "metadata": {},
   "outputs": [
    {
     "data": {
      "text/plain": [
       "[0, 1, 3, 5]"
      ]
     },
     "execution_count": 120,
     "metadata": {},
     "output_type": "execute_result"
    }
   ],
   "source": [
    "ReturnListAllIndexNew([2,2,5,2,8,2,1],2)"
   ]
  },
  {
   "cell_type": "code",
   "execution_count": null,
   "id": "1a076882",
   "metadata": {},
   "outputs": [],
   "source": [
    "def ReturnListAllIndexNew(lst,x,index=0):\n",
    "    anslsit = []\n",
    "    if index == len(lst):\n",
    "        return anslsit\n",
    "    \n",
    "    slist = ReturnListAllIndexNew(lst,x,index+1)\n",
    "    \n",
    "    if lst[index]==x:\n",
    "        anslsit.append(index)\n",
    "    \n",
    "    slist.extend(anslsit)\n",
    "        \n",
    "    return slist"
   ]
  }
 ],
 "metadata": {
  "kernelspec": {
   "display_name": ".conda",
   "language": "python",
   "name": "python3"
  },
  "language_info": {
   "codemirror_mode": {
    "name": "ipython",
    "version": 3
   },
   "file_extension": ".py",
   "mimetype": "text/x-python",
   "name": "python",
   "nbconvert_exporter": "python",
   "pygments_lexer": "ipython3",
   "version": "3.12.11"
  }
 },
 "nbformat": 4,
 "nbformat_minor": 5
}
