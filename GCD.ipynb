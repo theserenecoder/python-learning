{
 "cells": [
  {
   "cell_type": "markdown",
   "metadata": {},
   "source": [
    "### GCD ( Greatest Common Factor)"
   ]
  },
  {
   "cell_type": "code",
   "execution_count": 64,
   "metadata": {},
   "outputs": [
    {
     "name": "stdout",
     "output_type": "stream",
     "text": [
      "Enter two number12 80\n",
      "GCD Of 12 and 80 is 4\n"
     ]
    }
   ],
   "source": [
    "m,n = input(\"Enter two number\").split()\n",
    "m,n = int(m),int(n)\n",
    "\n",
    "def gcd(m,n):\n",
    "    \n",
    "    for i in range(min(m,n),0,-1):\n",
    "        if (m%i)==0 and (n%i)==0:\n",
    "            return i\n",
    "        \n",
    "num = gcd(m,n)\n",
    "print(\"GCD Of {0} and {1} is {2}\".format(m,n,num))"
   ]
  },
  {
   "cell_type": "code",
   "execution_count": 71,
   "metadata": {},
   "outputs": [
    {
     "name": "stdout",
     "output_type": "stream",
     "text": [
      "Enter two numbers34,565\n",
      "GCD Of 34 and 565 is 1\n"
     ]
    }
   ],
   "source": [
    "m,n = [int(x) for x in input(\"Enter two numbers\").split(',')]\n",
    "\n",
    "def gcdw(m,n):\n",
    "    \n",
    "    i=min(m,n)\n",
    "    \n",
    "    while i>0:\n",
    "        if (m%i)==0 and (n%i)==0:\n",
    "            return i\n",
    "        else:\n",
    "            i -= 1\n",
    "num2 = gcdw(m,n)\n",
    "print(\"GCD Of {0} and {1} is {2}\".format(m,n,num2))"
   ]
  },
  {
   "cell_type": "markdown",
   "metadata": {},
   "source": [
    "###  Euclid's Formula for GCD\n",
    "\n",
    "- Suppose d divides **m and n**, and **m > n**.\n",
    "- m = ad and n = bd\n",
    "- So **m - n = ad - bd = (a - b) d**\n",
    "- d divides (m - n) as well\n",
    "- Therefore, **gcd(m, n) = gcd(n, m-n)**\n",
    "\n",
    "Therefore, to calculate the gcd we will do the following.\n",
    "\n",
    "1. Consider gcd(m, n), m > n.\n",
    "2. If m % n, return n.\n",
    "3. Else, calculate gcd(n,m-n)"
   ]
  },
  {
   "cell_type": "code",
   "execution_count": 2,
   "metadata": {},
   "outputs": [
    {
     "name": "stdout",
     "output_type": "stream",
     "text": [
      "5\n"
     ]
    }
   ],
   "source": [
    "# using recurssion\n",
    "def gcd2(m,n):\n",
    "    \n",
    "    if m<n:\n",
    "        (m,n) = (n,m)      # making sure m is always greater than n\n",
    "    \n",
    "    if m%n == 0:\n",
    "        return n\n",
    "    else:\n",
    "        return (gcd2(max(n,m-n),min(n,m-n)))\n",
    "print(gcd2(10,25))"
   ]
  },
  {
   "cell_type": "code",
   "execution_count": 9,
   "metadata": {},
   "outputs": [
    {
     "name": "stdout",
     "output_type": "stream",
     "text": [
      "6\n"
     ]
    }
   ],
   "source": [
    "# using while loop\n",
    "\n",
    "def gcd3(m,n):\n",
    "    \n",
    "    if m<n:\n",
    "        (m,n) = (n,m)\n",
    "    \n",
    "    while (m%n) != 0:\n",
    "        diff = m-n\n",
    "        m,n = (max(n,diff),min(n,diff))              \n",
    "               \n",
    "    return n\n",
    "\n",
    "print(gcd3(102,6))"
   ]
  },
  {
   "cell_type": "markdown",
   "metadata": {},
   "source": [
    "Let's assume __n__ does not divide **m**\n",
    "- m = qn + r             -----(1)\n",
    "\n",
    "Assume if d divided **m and n**\n",
    "- m = ad and n = bd      -----(2)\n",
    "\n",
    "therefore, from eq 1 and 2, we get\n",
    "\n",
    "- ad = q(bd) + r\n",
    "\n",
    "from this we can assume that **r = cd**"
   ]
  },
  {
   "cell_type": "code",
   "execution_count": 3,
   "metadata": {},
   "outputs": [
    {
     "name": "stdout",
     "output_type": "stream",
     "text": [
      "5\n"
     ]
    }
   ],
   "source": [
    "# using recursion\n",
    "\n",
    "def gcd4(m,n):\n",
    "    \n",
    "    if m<n:\n",
    "        (m,n) = (n,m)\n",
    "        \n",
    "    if m%n ==0:\n",
    "        return n\n",
    "    else:\n",
    "        return gcd4(n,m%n)\n",
    "\n",
    "print(gcd4(15,50))"
   ]
  },
  {
   "cell_type": "code",
   "execution_count": 18,
   "metadata": {},
   "outputs": [
    {
     "name": "stdout",
     "output_type": "stream",
     "text": [
      "1\n"
     ]
    }
   ],
   "source": [
    "# using while\n",
    "\n",
    "def gcd5(m,n):\n",
    "    \n",
    "    if m<n:\n",
    "        (m,n) = (n,m)\n",
    "    \n",
    "    while m%n != 0:\n",
    "        (m,n) = (n,m%n)\n",
    "    \n",
    "    return n\n",
    "    \n",
    "print(gcd5(101,2))"
   ]
  },
  {
   "cell_type": "code",
   "execution_count": null,
   "metadata": {},
   "outputs": [],
   "source": []
  }
 ],
 "metadata": {
  "kernelspec": {
   "display_name": "Python 3",
   "language": "python",
   "name": "python3"
  },
  "language_info": {
   "codemirror_mode": {
    "name": "ipython",
    "version": 3
   },
   "file_extension": ".py",
   "mimetype": "text/x-python",
   "name": "python",
   "nbconvert_exporter": "python",
   "pygments_lexer": "ipython3",
   "version": "3.7.3"
  }
 },
 "nbformat": 4,
 "nbformat_minor": 2
}
