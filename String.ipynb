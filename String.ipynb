{
 "cells": [
  {
   "cell_type": "markdown",
   "metadata": {},
   "source": [
    "###  Strings\n",
    "\n",
    "- Strings are immutable sequence of Unicode code.\n",
    "\n",
    "\n",
    "- Can be written between: \n",
    "    - Single quotes - 'single'\n",
    "    - Double quotes - \"double\"\n",
    "    - Tripple quotes - '''single tripple''', \"\"\"double tripple \"\"\". It can be spans on multiple lines.\n",
    "\n",
    "\n",
    "- Strings can be indexed.\n",
    "\n",
    "\n",
    "- **class str(object=, encoding='utf-8', errors='stricts')** :  It returns a string version of object. If object is not provided it returns an empty string."
   ]
  },
  {
   "cell_type": "code",
   "execution_count": 3,
   "metadata": {},
   "outputs": [
    {
     "name": "stdout",
     "output_type": "stream",
     "text": [
      "this is text\n",
      "this is next line\n",
      "this is\n",
      "multiple lines\n"
     ]
    }
   ],
   "source": [
    "s1 = 'this is text'         # Single quotes\n",
    "s2 = \"this is next line\"    # Double quotes\n",
    "s3 = '''this is\n",
    "multiple lines'''           # tripple quotes\n",
    "print(s1)\n",
    "print(s2)\n",
    "print(s3)"
   ]
  },
  {
   "cell_type": "markdown",
   "metadata": {},
   "source": [
    "####  Indexing\n",
    "\n",
    "Indexing means accessing elements from an iterable object. It will raise ValueError if substring is not found.\n",
    "\n",
    "Syntax : object.index(sub[start[,end]]), object[index]\n",
    "\n",
    "- Index starts from 0.\n",
    "- Negative index is used to access element from the end of the list."
   ]
  },
  {
   "cell_type": "code",
   "execution_count": 13,
   "metadata": {},
   "outputs": [
    {
     "name": "stdout",
     "output_type": "stream",
     "text": [
      "this is text\n",
      "x\n",
      "10\n"
     ]
    }
   ],
   "source": [
    "print(s1)\n",
    "print(s1[10])\n",
    "print(s1.index('x'))"
   ]
  },
  {
   "cell_type": "markdown",
   "metadata": {},
   "source": [
    "#### Slicing\n",
    "\n",
    "It creates a sub string.\n",
    "\n",
    "Syntax : object[slice(start,stop,step)], object[slice(stop)], object[start:stop:step]"
   ]
  },
  {
   "cell_type": "code",
   "execution_count": 15,
   "metadata": {},
   "outputs": [
    {
     "name": "stdout",
     "output_type": "stream",
     "text": [
      "is is text\n"
     ]
    }
   ],
   "source": [
    "print(s1[2:12])"
   ]
  },
  {
   "cell_type": "markdown",
   "metadata": {},
   "source": [
    "### String Methods\n",
    "\n",
    "1. capitalize()\n",
    "2. center()\n",
    "3. count()\n",
    "4. endswith()\n",
    "5. startswith()\n",
    "5. isalpha()\n",
    "6. isalnum()\n",
    "8. isascii()\n",
    "9. isdecimal()\n",
    "10. isdigit()\n",
    "11. strip()\n",
    "    - lstrip()\n",
    "    - rstrip()\n",
    "12. swapcase()\n",
    "13. title()\n",
    "14. upper()\n",
    "15. lower()\n",
    "16. split()\n",
    "17. replace()\n",
    "18. join()\n",
    "19. find()\n",
    "\n",
    "\n",
    "### Capitalize()\n",
    "\n",
    "Returns a copy of the string with first character capital and rest in lowercase."
   ]
  },
  {
   "cell_type": "code",
   "execution_count": 27,
   "metadata": {},
   "outputs": [
    {
     "data": {
      "text/plain": [
       "'Hello world'"
      ]
     },
     "execution_count": 27,
     "metadata": {},
     "output_type": "execute_result"
    }
   ],
   "source": [
    "s = \"hello world\"\n",
    "s.capitalize()"
   ]
  },
  {
   "cell_type": "markdown",
   "metadata": {},
   "source": [
    "### Center()\n",
    "\n",
    "Return a centered string of lenght width\n",
    "\n",
    "Syntax : str.center(width, fillchar =\"\")"
   ]
  },
  {
   "cell_type": "code",
   "execution_count": 42,
   "metadata": {},
   "outputs": [
    {
     "name": "stdout",
     "output_type": "stream",
     "text": [
      "**************hello world***************\n",
      "-----------------hello------------------\n"
     ]
    }
   ],
   "source": [
    "print(s.center(40,'*'))\n",
    "print(\"hello\".center(40,\"-\"))"
   ]
  },
  {
   "cell_type": "markdown",
   "metadata": {},
   "source": [
    "### Count()\n",
    "\n",
    "Return the number of non-overlapping occurrences of substring sub in string S[start:end].\n",
    "\n",
    "Syntax : str.count(sub, start, end)"
   ]
  },
  {
   "cell_type": "code",
   "execution_count": 46,
   "metadata": {},
   "outputs": [
    {
     "data": {
      "text/plain": [
       "1"
      ]
     },
     "execution_count": 46,
     "metadata": {},
     "output_type": "execute_result"
    }
   ],
   "source": [
    "s1 = \"hello world hello\"\n",
    "\n",
    "s1.count(\"hello\")\n",
    "s1.count(\"hello\", 5,len(s1))"
   ]
  },
  {
   "cell_type": "markdown",
   "metadata": {},
   "source": [
    "### Endswith()\n",
    "\n",
    "Retruns True if string ends with specified suffix, else False\n",
    "\n",
    "Syntax : str.endswith(suffix, start, end)"
   ]
  },
  {
   "cell_type": "code",
   "execution_count": 52,
   "metadata": {},
   "outputs": [
    {
     "name": "stdout",
     "output_type": "stream",
     "text": [
      "True\n",
      "True\n"
     ]
    }
   ],
   "source": [
    "s2 = \"this is text line\"\n",
    "print(s2.endswith(\"ne\"))\n",
    "print(s2.endswith(\"xt\",0,12))"
   ]
  },
  {
   "cell_type": "markdown",
   "metadata": {},
   "source": [
    "### Startswith()\n",
    "\n",
    "Returns True if string starts with specified prefix, else False\n",
    "\n",
    "Syntax : str.startswith(prefix, start, end)"
   ]
  },
  {
   "cell_type": "code",
   "execution_count": 56,
   "metadata": {},
   "outputs": [
    {
     "name": "stdout",
     "output_type": "stream",
     "text": [
      "True\n",
      "True\n"
     ]
    }
   ],
   "source": [
    "print(s2.startswith('t'))\n",
    "print(s2.startswith('s',3))"
   ]
  },
  {
   "cell_type": "markdown",
   "metadata": {},
   "source": [
    "### Isalpha()\n",
    "\n",
    "Returns True if the string is alphabetic string, else False. Space is not considered to be alphabet therefore will return False."
   ]
  },
  {
   "cell_type": "code",
   "execution_count": 62,
   "metadata": {},
   "outputs": [
    {
     "name": "stdout",
     "output_type": "stream",
     "text": [
      "this is text line\n",
      "False\n",
      "True\n"
     ]
    }
   ],
   "source": [
    "print(s2)\n",
    "print(s2.isalpha())\n",
    "\n",
    "s3 = \"alpha\"\n",
    "print(s3.isalpha())"
   ]
  },
  {
   "cell_type": "markdown",
   "metadata": {},
   "source": [
    "### Isalnum()\n",
    "\n",
    "Returns True if the string is alpha-numeric in nature, else False."
   ]
  },
  {
   "cell_type": "code",
   "execution_count": 66,
   "metadata": {},
   "outputs": [
    {
     "name": "stdout",
     "output_type": "stream",
     "text": [
      "this is text line\n",
      "False\n",
      "True\n"
     ]
    }
   ],
   "source": [
    "print(s2)\n",
    "print(s2.isalnum())\n",
    "\n",
    "s4 = 'txt123'\n",
    "print(s4.isalnum())"
   ]
  },
  {
   "cell_type": "markdown",
   "metadata": {},
   "source": [
    "### Isascii()\n",
    "\n",
    "Returns True if all character in the string are ascii characters. **ASCII** is a 7 bit character set containing 128 character. It contains the numbers from 0-9, the upper and lower case English letters from A to Z, and some special characters."
   ]
  },
  {
   "cell_type": "code",
   "execution_count": 71,
   "metadata": {},
   "outputs": [
    {
     "name": "stdout",
     "output_type": "stream",
     "text": [
      "this is text line ; ascii :  True\n",
      "txt123 ; ascii :  True\n"
     ]
    }
   ],
   "source": [
    "print(s2, \"; ascii : \", s2.isascii())\n",
    "\n",
    "print(s4, \"; ascii : \",s4.isascii())\n"
   ]
  },
  {
   "cell_type": "markdown",
   "metadata": {},
   "source": [
    "### Isdecimal()\n",
    "\n",
    "Return True if all elements in the string are decimal string, False otherwise. Decimal character are those that can be used to form numbers in base10. '.' character is not a decimal character."
   ]
  },
  {
   "cell_type": "code",
   "execution_count": 78,
   "metadata": {},
   "outputs": [
    {
     "data": {
      "text/plain": [
       "True"
      ]
     },
     "execution_count": 78,
     "metadata": {},
     "output_type": "execute_result"
    }
   ],
   "source": [
    "s5 = \".122\"\n",
    "s5.isdecimal()\n",
    "\n",
    "\"1265\".isdecimal()"
   ]
  },
  {
   "cell_type": "markdown",
   "metadata": {},
   "source": [
    "### Isdigit()\n",
    "\n",
    "Returns True if string is the digit string, False otherwise."
   ]
  },
  {
   "cell_type": "code",
   "execution_count": 81,
   "metadata": {},
   "outputs": [
    {
     "name": "stdout",
     "output_type": "stream",
     "text": [
      "False\n",
      "True\n"
     ]
    }
   ],
   "source": [
    "print(s5.isdigit())\n",
    "\n",
    "print(\"12\".isdigit())"
   ]
  },
  {
   "cell_type": "markdown",
   "metadata": {},
   "source": [
    "### Strip()\n",
    "\n",
    "Returns a copy of the string with trailing and leading whitespaces removed. If character is given, remove character in char instead.\n",
    "\n",
    "Syntax : str.strip(char=None)\n",
    "\n",
    "\n",
    "#### Lstrip()\n",
    "\n",
    "Returns a copy of the string with leading whitespaces removed. If character is given, remove character in char instead.\n",
    "\n",
    "Syntax : str.lstrip(char=None)\n",
    "\n",
    "\n",
    "#### Rstrip()\n",
    "\n",
    "\n",
    "Returns a copy of the string with trailing whitespaces removed. If character is given, remove character in char instead.\n",
    "\n",
    "Syntax : str.lstrip(char=None)"
   ]
  },
  {
   "cell_type": "code",
   "execution_count": 89,
   "metadata": {},
   "outputs": [
    {
     "name": "stdout",
     "output_type": "stream",
     "text": [
      "hello world\n",
      "this is wierd\n"
     ]
    }
   ],
   "source": [
    "s6 = \"   hello world    \"\n",
    "print(s6.strip())\n",
    "\n",
    "s7 = \"iithis is wierdii\"\n",
    "print(s7.strip('i'))"
   ]
  },
  {
   "cell_type": "code",
   "execution_count": 91,
   "metadata": {},
   "outputs": [
    {
     "name": "stdout",
     "output_type": "stream",
     "text": [
      "hello world    \n",
      "this is wierdii\n"
     ]
    }
   ],
   "source": [
    "print(s6.lstrip())\n",
    "print(s7.lstrip('i'))"
   ]
  },
  {
   "cell_type": "code",
   "execution_count": 92,
   "metadata": {},
   "outputs": [
    {
     "name": "stdout",
     "output_type": "stream",
     "text": [
      "   hello world\n",
      "iithis is wierd\n"
     ]
    }
   ],
   "source": [
    "print(s6.rstrip())\n",
    "print(s7.rstrip('i'))"
   ]
  },
  {
   "cell_type": "markdown",
   "metadata": {},
   "source": [
    "### Swapcase()\n",
    "\n",
    "Return a copy of the string of lowercase character converted to uppercase and visaversa."
   ]
  },
  {
   "cell_type": "code",
   "execution_count": 97,
   "metadata": {},
   "outputs": [
    {
     "name": "stdout",
     "output_type": "stream",
     "text": [
      "alpha  : after conversion :  ALPHA\n",
      "MY NAME IS MIKE\n"
     ]
    }
   ],
   "source": [
    "print(s3, \" : after conversion : \", s3.swapcase())\n",
    "\n",
    "\n",
    "print(\"my name is mike\".swapcase())"
   ]
  },
  {
   "cell_type": "markdown",
   "metadata": {},
   "source": [
    "### Title()\n",
    "\n",
    "Return a copy of the string where each word is little case."
   ]
  },
  {
   "cell_type": "code",
   "execution_count": 107,
   "metadata": {},
   "outputs": [
    {
     "name": "stdout",
     "output_type": "stream",
     "text": [
      "hello world hello\n",
      "Hello World Hello\n"
     ]
    }
   ],
   "source": [
    "print(s1)\n",
    "print(s1.title())"
   ]
  },
  {
   "cell_type": "markdown",
   "metadata": {},
   "source": [
    "### Upper()\n",
    "\n",
    "Return a copy of the string where each character is converted to upper case."
   ]
  },
  {
   "cell_type": "code",
   "execution_count": 125,
   "metadata": {},
   "outputs": [
    {
     "data": {
      "text/plain": [
       "'HELLO WORLD HELLO'"
      ]
     },
     "execution_count": 125,
     "metadata": {},
     "output_type": "execute_result"
    }
   ],
   "source": [
    "s1.upper()"
   ]
  },
  {
   "cell_type": "markdown",
   "metadata": {},
   "source": [
    "### Lower()\n",
    "\n",
    "Return a copy of the string where each character is converted to lower case."
   ]
  },
  {
   "cell_type": "code",
   "execution_count": 114,
   "metadata": {},
   "outputs": [
    {
     "name": "stdout",
     "output_type": "stream",
     "text": [
      "this is test\n"
     ]
    }
   ],
   "source": [
    "print(\"ThIS iS TEST\".lower())"
   ]
  },
  {
   "cell_type": "markdown",
   "metadata": {},
   "source": [
    "### Split()\n",
    "\n",
    "Returns a list by splitting words in a string, using sep as delimiter. if sep= None then split according to the whitespaces and discard empty strings.\n",
    "\n",
    "Syntax : str.split(sep=None, maxsplit = -1)\n",
    "\n",
    "Maxsplit means maximum number of splits to do and -1 means no limit.\n"
   ]
  },
  {
   "cell_type": "code",
   "execution_count": 121,
   "metadata": {},
   "outputs": [
    {
     "name": "stdout",
     "output_type": "stream",
     "text": [
      "['this', 'is', 'test']\n"
     ]
    }
   ],
   "source": [
    "print(\"this is test  \".split())"
   ]
  },
  {
   "cell_type": "markdown",
   "metadata": {},
   "source": [
    "### Replace()\n",
    "\n",
    "Return a copy of the string with replacing all occurance of old substring with new sub-string.\n",
    "\n",
    "Syntax : str.replace(old, new, count=-1)\n",
    "\n",
    "count = -1 means replace all occurances."
   ]
  },
  {
   "cell_type": "code",
   "execution_count": 122,
   "metadata": {},
   "outputs": [
    {
     "name": "stdout",
     "output_type": "stream",
     "text": [
      "bye world bye\n",
      "bye world hello\n"
     ]
    }
   ],
   "source": [
    "print(s1.replace(\"hello\",\"bye\"))\n",
    "\n",
    "print(s1.replace(\"hello\",\"bye\",1))"
   ]
  },
  {
   "cell_type": "markdown",
   "metadata": {},
   "source": [
    "### Join()\n",
    "\n",
    "Returns a string which is the concatination of the string in iterable. The string whose method is called is inserted in between each given string. The result is returned as a new string.\n",
    "\n",
    "Syntax : \" \".join(iterable)"
   ]
  },
  {
   "cell_type": "code",
   "execution_count": 145,
   "metadata": {},
   "outputs": [
    {
     "data": {
      "text/plain": [
       "'hello-world'"
      ]
     },
     "execution_count": 145,
     "metadata": {},
     "output_type": "execute_result"
    }
   ],
   "source": [
    "lst = [\"hello\",\"world\"]\n",
    "\"-\".join(lst)"
   ]
  },
  {
   "cell_type": "markdown",
   "metadata": {},
   "source": [
    "### Find()\n",
    "\n",
    "Return the lowest index of the string where it finds the sub string within the slice.\n",
    "\n",
    "Syntax : str.find(sub, start, end)\n",
    "\n",
    "This method is used if we need to know the position of the sub, otherwise to check if sub is in the string we should use \"**in**\""
   ]
  },
  {
   "cell_type": "code",
   "execution_count": 146,
   "metadata": {},
   "outputs": [
    {
     "name": "stdout",
     "output_type": "stream",
     "text": [
      "hello world hello\n",
      "6\n"
     ]
    }
   ],
   "source": [
    "print(s1)\n",
    "print(s1.find(\"world\"))"
   ]
  }
 ],
 "metadata": {
  "kernelspec": {
   "display_name": "Python 3",
   "language": "python",
   "name": "python3"
  },
  "language_info": {
   "codemirror_mode": {
    "name": "ipython",
    "version": 3
   },
   "file_extension": ".py",
   "mimetype": "text/x-python",
   "name": "python",
   "nbconvert_exporter": "python",
   "pygments_lexer": "ipython3",
   "version": "3.9.0"
  }
 },
 "nbformat": 4,
 "nbformat_minor": 4
}
