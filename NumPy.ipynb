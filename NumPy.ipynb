{
 "cells": [
  {
   "cell_type": "markdown",
   "metadata": {},
   "source": [
    "### NumPy\n",
    "- NumPy (Numerical Python) is fundamental package for mathematical computation in python.\n",
    "- Package for multi-dimentional arrays.\n",
    "\n",
    "\n",
    "To use NumPy array we first need to import it"
   ]
  },
  {
   "cell_type": "code",
   "execution_count": 1,
   "metadata": {},
   "outputs": [],
   "source": [
    "# importing numpy library with alias\n",
    "import numpy as np"
   ]
  },
  {
   "cell_type": "markdown",
   "metadata": {},
   "source": [
    "### Defining a Numpy array\n",
    "Creating a numpy array\n",
    "\n",
    "1D array --> Vector \n",
    "    [    ]\n",
    "\n",
    "2D array --> Matrix\n",
    "    [[   ],\n",
    "     [   ]]\n",
    "\n",
    "nD array --> Tensor (multi dimentional array)\n",
    "\n"
   ]
  },
  {
   "cell_type": "markdown",
   "metadata": {},
   "source": [
    "#### Creating first 1D array by using list"
   ]
  },
  {
   "cell_type": "code",
   "execution_count": 2,
   "metadata": {},
   "outputs": [
    {
     "name": "stdout",
     "output_type": "stream",
     "text": [
      "[1 2 3 4]\n"
     ]
    }
   ],
   "source": [
    "#creating first 1D array by using list\n",
    "first_array = np.array([1,2,3,4])\n",
    "print(first_array)"
   ]
  },
  {
   "cell_type": "markdown",
   "metadata": {},
   "source": [
    "#### Creating 1D array using arange :\n",
    "Arange is an array-valued version of the python in-built version of range function.\n"
   ]
  },
  {
   "cell_type": "code",
   "execution_count": 3,
   "metadata": {},
   "outputs": [
    {
     "name": "stdout",
     "output_type": "stream",
     "text": [
      "[0 1 2 3 4 5 6 7 8 9]\n",
      "<class 'numpy.ndarray'>\n"
     ]
    }
   ],
   "source": [
    "#creating 1D array using arange\n",
    "second_array = np.arange(10)\n",
    "print(second_array)\n",
    "print(type(second_array))"
   ]
  },
  {
   "cell_type": "markdown",
   "metadata": {},
   "source": [
    "__From Iter__  : create a 1-dimensional arrayfrom an iterable object.\n",
    "\n",
    "Syntax: np.fromiter(iter, dtype)"
   ]
  },
  {
   "cell_type": "code",
   "execution_count": 4,
   "metadata": {},
   "outputs": [
    {
     "data": {
      "text/plain": [
       "array([ 0,  1,  4,  9, 16, 25])"
      ]
     },
     "execution_count": 4,
     "metadata": {},
     "output_type": "execute_result"
    }
   ],
   "source": [
    "#creating a 1D array using an iterator\n",
    "itr = [i**2 for i in range(6)]\n",
    "np.fromiter(itr, int)"
   ]
  },
  {
   "cell_type": "markdown",
   "metadata": {},
   "source": [
    "__From String__ : : A new 1-D array initialized from text data in a string.\n",
    "\n",
    "Syntax : np.fromstring(string, dtype=float, sep) "
   ]
  },
  {
   "cell_type": "code",
   "execution_count": 5,
   "metadata": {},
   "outputs": [
    {
     "data": {
      "text/plain": [
       "array([4, 5, 6, 7, 8])"
      ]
     },
     "execution_count": 5,
     "metadata": {},
     "output_type": "execute_result"
    }
   ],
   "source": [
    "#creating a 1D array using a string\n",
    "st = '4,5,6,7,8'\n",
    "np.fromstring(st, sep= ',', dtype = int)"
   ]
  },
  {
   "cell_type": "markdown",
   "metadata": {},
   "source": [
    "#### Creating 2D array with list of list"
   ]
  },
  {
   "cell_type": "code",
   "execution_count": 6,
   "metadata": {},
   "outputs": [
    {
     "name": "stdout",
     "output_type": "stream",
     "text": [
      "[[1 2]\n",
      " [3 4]]\n"
     ]
    }
   ],
   "source": [
    "#creating 2D array with list of list\n",
    "third_array = np.array([[1,2],[3,4]])\n",
    "print(third_array)"
   ]
  },
  {
   "cell_type": "markdown",
   "metadata": {},
   "source": [
    "__From Function__ : Construct an array by executing a function over each coordinate\n",
    "\n",
    "Syntax : np.fromfunction(function, shape, dtype)"
   ]
  },
  {
   "cell_type": "code",
   "execution_count": 7,
   "metadata": {},
   "outputs": [
    {
     "data": {
      "text/plain": [
       "array([[0, 1, 2],\n",
       "       [1, 2, 3],\n",
       "       [2, 3, 4]])"
      ]
     },
     "execution_count": 7,
     "metadata": {},
     "output_type": "execute_result"
    }
   ],
   "source": [
    "#creating an array using a function\n",
    "np.fromfunction(lambda x,y : x+y,(3,3), dtype =int)"
   ]
  },
  {
   "cell_type": "markdown",
   "metadata": {},
   "source": [
    "#### Linespace :\n",
    "Creating an array with equal distance on line. It returns an evenly space numbers over a specified intervals.\n",
    "\n",
    "Syntax :  np.linspace(start,stop,samples to generate)\n"
   ]
  },
  {
   "cell_type": "code",
   "execution_count": 8,
   "metadata": {},
   "outputs": [
    {
     "name": "stdout",
     "output_type": "stream",
     "text": [
      "[0. 2. 4. 6. 8.]\n"
     ]
    }
   ],
   "source": [
    "#creating an array with equal distance on line\n",
    "fourth_array = np.linspace(0,10,5,endpoint=False)\n",
    "print(fourth_array)"
   ]
  },
  {
   "cell_type": "markdown",
   "metadata": {},
   "source": [
    "#### Creating common arrays:\n",
    "\n",
    "__Ones()__ : Returns a new array of given shape and type filled with 1.\n",
    "\n",
    "Syntax : np.ones(shape, dtype)"
   ]
  },
  {
   "cell_type": "code",
   "execution_count": 9,
   "metadata": {},
   "outputs": [
    {
     "name": "stdout",
     "output_type": "stream",
     "text": [
      "[[1 1]\n",
      " [1 1]]\n"
     ]
    }
   ],
   "source": [
    "array_ones = np.ones((2,2),dtype=int)\n",
    "print(array_ones)"
   ]
  },
  {
   "cell_type": "markdown",
   "metadata": {},
   "source": [
    "__Zeros()__ : Returns a new rray of given shape and type filled with 0.\n",
    "\n",
    "Syntax : np.zeros(shape,dtype)"
   ]
  },
  {
   "cell_type": "code",
   "execution_count": 10,
   "metadata": {},
   "outputs": [
    {
     "name": "stdout",
     "output_type": "stream",
     "text": [
      "[[[0. 0. 0.]\n",
      "  [0. 0. 0.]\n",
      "  [0. 0. 0.]]\n",
      "\n",
      " [[0. 0. 0.]\n",
      "  [0. 0. 0.]\n",
      "  [0. 0. 0.]]]\n"
     ]
    }
   ],
   "source": [
    "array_zeros = np.zeros((2,3,3))\n",
    "print(array_zeros)"
   ]
  },
  {
   "cell_type": "markdown",
   "metadata": {},
   "source": [
    "__Eye()__ : Returns an Identity matrix where the diagonal elements are 1 and rest are 0.\n",
    "\n",
    "Syntax : np.eye(rows,columns,diagonal index)"
   ]
  },
  {
   "cell_type": "code",
   "execution_count": 11,
   "metadata": {},
   "outputs": [
    {
     "name": "stdout",
     "output_type": "stream",
     "text": [
      "[[0 1 0]\n",
      " [0 0 1]\n",
      " [0 0 0]]\n"
     ]
    }
   ],
   "source": [
    "array_identity = np.eye(3,3,k=1,dtype=int)\n",
    "print(array_identity)"
   ]
  },
  {
   "cell_type": "markdown",
   "metadata": {},
   "source": [
    "__Diag()__ : Returns a diagonal array\n",
    "\n",
    "Syntax : np.diag(array, diagonal)"
   ]
  },
  {
   "cell_type": "code",
   "execution_count": 12,
   "metadata": {},
   "outputs": [
    {
     "name": "stdout",
     "output_type": "stream",
     "text": [
      "[[1 0 0 0]\n",
      " [0 2 0 0]\n",
      " [0 0 3 0]\n",
      " [0 0 0 4]]\n"
     ]
    }
   ],
   "source": [
    "array_diagonal1 = np.diag([1,2,3,4])\n",
    "print(array_diagonal1)"
   ]
  },
  {
   "cell_type": "code",
   "execution_count": 13,
   "metadata": {},
   "outputs": [
    {
     "name": "stdout",
     "output_type": "stream",
     "text": [
      "[[1 2]\n",
      " [3 4]]\n",
      "\n",
      "Diagonal array is :  [1 4]\n"
     ]
    }
   ],
   "source": [
    "array_diagonal2 = np.diag(third_array)\n",
    "print(third_array)\n",
    "print(\"\\nDiagonal array is : \",array_diagonal2)"
   ]
  },
  {
   "cell_type": "markdown",
   "metadata": {},
   "source": [
    "### Basic Data Types\n",
    "\n",
    "There are different data types in Numpy array as well. We can specify or check the data type for array by using __dtype__.\n"
   ]
  },
  {
   "cell_type": "code",
   "execution_count": 14,
   "metadata": {},
   "outputs": [
    {
     "data": {
      "text/plain": [
       "dtype('int32')"
      ]
     },
     "execution_count": 14,
     "metadata": {},
     "output_type": "execute_result"
    }
   ],
   "source": [
    "a = np.arange(10)\n",
    "a.dtype"
   ]
  },
  {
   "cell_type": "code",
   "execution_count": 15,
   "metadata": {},
   "outputs": [
    {
     "name": "stdout",
     "output_type": "stream",
     "text": [
      "[[[0. 0. 0.]\n",
      "  [0. 0. 0.]\n",
      "  [0. 0. 0.]]\n",
      "\n",
      " [[0. 0. 0.]\n",
      "  [0. 0. 0.]\n",
      "  [0. 0. 0.]]]\n",
      "\n",
      "Data type is :  float64\n"
     ]
    }
   ],
   "source": [
    "print(array_zeros)\n",
    "print(\"\\nData type is : \",array_zeros.dtype)"
   ]
  },
  {
   "cell_type": "code",
   "execution_count": 16,
   "metadata": {},
   "outputs": [
    {
     "name": "stdout",
     "output_type": "stream",
     "text": [
      "bool\n"
     ]
    }
   ],
   "source": [
    "b = np.array([True,False,True])\n",
    "print(b.dtype)"
   ]
  },
  {
   "cell_type": "markdown",
   "metadata": {},
   "source": [
    "#### Character code to identify datatypes\n",
    "\n",
    "'b' - boolean\n",
    "\n",
    "'i' - signed integer\n",
    "\n",
    "'u' - insigned integer \n",
    "\n",
    "'f' - floating point\n",
    "\n",
    "'c' - complex floating point\n",
    "\n",
    "'m' - time delta\n",
    "\n",
    "'S','a' - (byte) String\n",
    "\n",
    "'U' - Unicode\n",
    "\n",
    "'V' - raw data\n",
    "\n",
    "'M' - Date time"
   ]
  },
  {
   "cell_type": "markdown",
   "metadata": {},
   "source": [
    "####  Indexing\n",
    "\n",
    "Indexing in numpy array is similar to lists"
   ]
  },
  {
   "cell_type": "code",
   "execution_count": 17,
   "metadata": {},
   "outputs": [
    {
     "name": "stdout",
     "output_type": "stream",
     "text": [
      "[0 1 2 3 4 5 6 7 8 9]\n",
      "5\n"
     ]
    }
   ],
   "source": [
    "a = np.arange(10)\n",
    "print(a)\n",
    "print(a[5])"
   ]
  },
  {
   "cell_type": "markdown",
   "metadata": {},
   "source": [
    "#### Slicing\n",
    "\n",
    "Slicing does not create a new array instead it creates a reference of the array or can be seen as a subset of the original array.\n",
    "\n",
    "If we update any value of the subset it will even update the original array as well. To overcome this we need to use __.copy()__ to make a force copy."
   ]
  },
  {
   "cell_type": "code",
   "execution_count": 18,
   "metadata": {},
   "outputs": [
    {
     "name": "stdout",
     "output_type": "stream",
     "text": [
      "[1 3 5 7]\n"
     ]
    }
   ],
   "source": [
    "print(a[1:8:2])"
   ]
  },
  {
   "cell_type": "code",
   "execution_count": 19,
   "metadata": {},
   "outputs": [
    {
     "data": {
      "text/plain": [
       "True"
      ]
     },
     "execution_count": 19,
     "metadata": {},
     "output_type": "execute_result"
    }
   ],
   "source": [
    "b = a[1:8:2]\n",
    "\n",
    "#to check if same memory is shared\n",
    "np.may_share_memory(a,b)"
   ]
  },
  {
   "cell_type": "code",
   "execution_count": 20,
   "metadata": {},
   "outputs": [
    {
     "name": "stdout",
     "output_type": "stream",
     "text": [
      "[ 0  1  2  3  4 12  6  7  8  9]\n"
     ]
    }
   ],
   "source": [
    "b[2] = 12\n",
    "print(a)"
   ]
  },
  {
   "cell_type": "markdown",
   "metadata": {},
   "source": [
    "#### Dimension of an Array\n",
    "\n",
    "__ndim()__ : Returns the dimension of an array\n",
    "\n",
    "Syntax : np.ndim(array)\n"
   ]
  },
  {
   "cell_type": "code",
   "execution_count": 21,
   "metadata": {},
   "outputs": [
    {
     "name": "stdout",
     "output_type": "stream",
     "text": [
      "1\n",
      "3\n"
     ]
    }
   ],
   "source": [
    "print(np.ndim(a))\n",
    "print(np.ndim(array_zeros))"
   ]
  },
  {
   "cell_type": "markdown",
   "metadata": {},
   "source": [
    "#### Shape of an Array\n",
    "\n",
    "__shape()__ : Returns the shape of an array.\n",
    "\n",
    "Syntax : np.shape(array)"
   ]
  },
  {
   "cell_type": "code",
   "execution_count": 22,
   "metadata": {},
   "outputs": [
    {
     "name": "stdout",
     "output_type": "stream",
     "text": [
      "[ 0  1  2  3  4 12  6  7  8  9]\n",
      "Shape  (10,)\n",
      "\n",
      " [[[0. 0. 0.]\n",
      "  [0. 0. 0.]\n",
      "  [0. 0. 0.]]\n",
      "\n",
      " [[0. 0. 0.]\n",
      "  [0. 0. 0.]\n",
      "  [0. 0. 0.]]]\n",
      "Shape  (2, 3, 3)\n"
     ]
    }
   ],
   "source": [
    "print(a)\n",
    "print(\"Shape \",np.shape(a))\n",
    "print(\"\\n\",array_zeros)\n",
    "print(\"Shape \",np.shape(array_zeros))"
   ]
  },
  {
   "cell_type": "markdown",
   "metadata": {},
   "source": [
    "#### Basic Operation\n",
    "\n",
    "Any mathematical operation is applicable on all the elements of array. For ex if we add a scaler value to an array that values get's added all the elements of the array.\n",
    "\n"
   ]
  },
  {
   "cell_type": "markdown",
   "metadata": {},
   "source": [
    "__Addition__"
   ]
  },
  {
   "cell_type": "code",
   "execution_count": 23,
   "metadata": {},
   "outputs": [
    {
     "name": "stdout",
     "output_type": "stream",
     "text": [
      "[2 3 4 5]\n",
      "[2 4 6 8]\n"
     ]
    }
   ],
   "source": [
    "array_a = np.array([1,2,3,4])\n",
    "print(array_a + 1)\n",
    "\n",
    "#using add method \n",
    "print(np.add(array_a,array_a))"
   ]
  },
  {
   "cell_type": "code",
   "execution_count": 24,
   "metadata": {},
   "outputs": [
    {
     "data": {
      "text/plain": [
       "array([ 1,  4,  9, 16], dtype=int32)"
      ]
     },
     "execution_count": 24,
     "metadata": {},
     "output_type": "execute_result"
    }
   ],
   "source": [
    "array_a**2"
   ]
  },
  {
   "cell_type": "markdown",
   "metadata": {},
   "source": [
    "If we do any airthmatic operations on two arrays than that to take place element wise."
   ]
  },
  {
   "cell_type": "code",
   "execution_count": 25,
   "metadata": {},
   "outputs": [
    {
     "data": {
      "text/plain": [
       "array([5, 5, 5, 5])"
      ]
     },
     "execution_count": 25,
     "metadata": {},
     "output_type": "execute_result"
    }
   ],
   "source": [
    "array_b = np.array([4,3,2,1])\n",
    "array_a + array_b"
   ]
  },
  {
   "cell_type": "markdown",
   "metadata": {},
   "source": [
    "#### Sum\n",
    "Sum of array element over a given axis. axis=0 for column and axis=1 for rows.\n",
    "\n",
    "Syntax : np.sum(array,axis,dtype)"
   ]
  },
  {
   "cell_type": "code",
   "execution_count": 26,
   "metadata": {},
   "outputs": [
    {
     "name": "stdout",
     "output_type": "stream",
     "text": [
      "[[1 2]\n",
      " [4 3]]\n",
      "\n",
      "row based  [3 7]\n",
      "\n",
      "column based [5 5]\n"
     ]
    }
   ],
   "source": [
    "array_sum = np.array([[1,2],[4,3]])\n",
    "print(array_sum)\n",
    "#row based addition\n",
    "print(\"\\nrow based \",np.sum(array_sum,axis=1))\n",
    "#column based addition\n",
    "print(\"\\ncolumn based\",np.sum(array_sum,axis=0))"
   ]
  },
  {
   "cell_type": "markdown",
   "metadata": {},
   "source": [
    "__Max__ : Returns the max element of an array or along the axis defined\n",
    "\n",
    "Syntax : np.max(array,axis)"
   ]
  },
  {
   "cell_type": "code",
   "execution_count": 27,
   "metadata": {},
   "outputs": [
    {
     "name": "stdout",
     "output_type": "stream",
     "text": [
      "[1 2 3 4]\n"
     ]
    },
    {
     "data": {
      "text/plain": [
       "4"
      ]
     },
     "execution_count": 27,
     "metadata": {},
     "output_type": "execute_result"
    }
   ],
   "source": [
    "print(array_a)\n",
    "np.max(array_a)"
   ]
  },
  {
   "cell_type": "markdown",
   "metadata": {},
   "source": [
    "__Min__ : Returns the minimun element of an array or along the axis defined\n",
    "\n",
    "Syntax : np.min(array,axis)"
   ]
  },
  {
   "cell_type": "code",
   "execution_count": 28,
   "metadata": {},
   "outputs": [
    {
     "data": {
      "text/plain": [
       "1"
      ]
     },
     "execution_count": 28,
     "metadata": {},
     "output_type": "execute_result"
    }
   ],
   "source": [
    "np.min(array_a)"
   ]
  },
  {
   "cell_type": "markdown",
   "metadata": {},
   "source": [
    "__Argmax__ : Return the index of maximun value along the axis defined.\n",
    "\n",
    "Syntax : np.argmax(array, axis)\n",
    "\n",
    "array.argmax()"
   ]
  },
  {
   "cell_type": "code",
   "execution_count": 29,
   "metadata": {},
   "outputs": [
    {
     "name": "stdout",
     "output_type": "stream",
     "text": [
      "[[1 2]\n",
      " [4 3]]\n",
      "[1 1]\n",
      "\n",
      " [1 1]\n"
     ]
    }
   ],
   "source": [
    "#return index of maximum value column based\n",
    "print(array_sum)\n",
    "print(np.argmax(array_sum,axis=0))\n",
    "print(\"\\n\",array_sum.argmax(axis=0))"
   ]
  },
  {
   "cell_type": "markdown",
   "metadata": {},
   "source": [
    "__Argmin__ : Return the index of minimum value along the axis defined.\n",
    "\n",
    "Syntax : np.argmin(array, axis)"
   ]
  },
  {
   "cell_type": "code",
   "execution_count": 30,
   "metadata": {},
   "outputs": [
    {
     "data": {
      "text/plain": [
       "array([0, 1], dtype=int64)"
      ]
     },
     "execution_count": 30,
     "metadata": {},
     "output_type": "execute_result"
    }
   ],
   "source": [
    "#return index of minimum value row based\n",
    "np.argmin(array_sum,axis=1)"
   ]
  },
  {
   "cell_type": "markdown",
   "metadata": {},
   "source": [
    "#### Matrix Multiplication\n",
    "\n",
    "Multiplication can be done by 2 ways:\n",
    "1. * : array_a * array_b :  Element wise multiplication.\n",
    "2. dot() : array_a.dot(array_b) : Matrix Multiplication\n",
    "3. @ : array_a @ array_b : Matrix Multiplication"
   ]
  },
  {
   "cell_type": "code",
   "execution_count": 31,
   "metadata": {},
   "outputs": [
    {
     "name": "stdout",
     "output_type": "stream",
     "text": [
      "[[ 1  0  0  0]\n",
      " [ 0  4  0  0]\n",
      " [ 0  0  9  0]\n",
      " [ 0  0  0 16]]\n",
      "\n",
      " [[ 1  0  0  0]\n",
      " [ 0  4  0  0]\n",
      " [ 0  0  9  0]\n",
      " [ 0  0  0 16]]\n",
      "\n",
      " [[ 1  0  0  0]\n",
      " [ 0  4  0  0]\n",
      " [ 0  0  9  0]\n",
      " [ 0  0  0 16]]\n"
     ]
    }
   ],
   "source": [
    "array_c = np.diag([1,2,3,4])\n",
    "#multiplication\n",
    "print(array_c*array_c)\n",
    "\n",
    "print(\"\\n\",array_c.dot(array_c))\n",
    "print('\\n', array_c@array_c)"
   ]
  },
  {
   "cell_type": "markdown",
   "metadata": {},
   "source": [
    "#### Comparisions\n",
    "All comparision operators can be used"
   ]
  },
  {
   "cell_type": "code",
   "execution_count": 32,
   "metadata": {},
   "outputs": [
    {
     "name": "stdout",
     "output_type": "stream",
     "text": [
      "[1 2 3 4]\n",
      "[4 3 2 1]\n"
     ]
    },
    {
     "data": {
      "text/plain": [
       "array([False, False,  True,  True])"
      ]
     },
     "execution_count": 32,
     "metadata": {},
     "output_type": "execute_result"
    }
   ],
   "source": [
    "#Compare element wise if array_a element is greater than array_b element.\n",
    "print(array_a)\n",
    "print(array_b)\n",
    "array_a > array_b"
   ]
  },
  {
   "cell_type": "code",
   "execution_count": 33,
   "metadata": {},
   "outputs": [
    {
     "name": "stdout",
     "output_type": "stream",
     "text": [
      "[False  True  True False]\n"
     ]
    }
   ],
   "source": [
    "array_d = np.array([1,2,2,3])\n",
    "array_e = np.array([3,2,2,1])\n",
    "print(array_d == array_e)"
   ]
  },
  {
   "cell_type": "markdown",
   "metadata": {},
   "source": [
    "__Array_equal__ : True if two array have the same shape and elements, False otherwise"
   ]
  },
  {
   "cell_type": "code",
   "execution_count": 34,
   "metadata": {},
   "outputs": [
    {
     "name": "stdout",
     "output_type": "stream",
     "text": [
      "False\n",
      "True\n"
     ]
    }
   ],
   "source": [
    "print(np.array_equal(array_d,array_c))\n",
    "print(np.array_equal(array_d,np.array([1,2,2,3])))"
   ]
  },
  {
   "cell_type": "markdown",
   "metadata": {},
   "source": [
    "__Statistics__\n",
    "\n",
    "Mean : np.mean(array,axis,dtype)\n",
    "\n",
    "Median : np.median(array,axis)\n",
    "\n",
    "Standard Deviation : np.std(array, axis, dtype) "
   ]
  },
  {
   "cell_type": "code",
   "execution_count": 35,
   "metadata": {},
   "outputs": [
    {
     "name": "stdout",
     "output_type": "stream",
     "text": [
      "[1 2 3 4]\n"
     ]
    },
    {
     "data": {
      "text/plain": [
       "2.5"
      ]
     },
     "execution_count": 35,
     "metadata": {},
     "output_type": "execute_result"
    }
   ],
   "source": [
    "print(array_a)\n",
    "np.mean(array_a)"
   ]
  },
  {
   "cell_type": "code",
   "execution_count": 36,
   "metadata": {},
   "outputs": [
    {
     "name": "stdout",
     "output_type": "stream",
     "text": [
      "[4. 3.]\n"
     ]
    }
   ],
   "source": [
    "x = np.array([[2,4,6],[1,3,7]])\n",
    "print(np.median(x,axis=1))"
   ]
  },
  {
   "cell_type": "code",
   "execution_count": 37,
   "metadata": {},
   "outputs": [
    {
     "data": {
      "text/plain": [
       "array([0.5, 0.5, 0.5])"
      ]
     },
     "execution_count": 37,
     "metadata": {},
     "output_type": "execute_result"
    }
   ],
   "source": [
    "np.std(x,axis=0)"
   ]
  },
  {
   "cell_type": "markdown",
   "metadata": {},
   "source": [
    "__Logical Operators__\n",
    "\n",
    "1. Any\n",
    "2. All"
   ]
  },
  {
   "cell_type": "markdown",
   "metadata": {},
   "source": [
    "__Any()__ : Tests whether any elements along a given axis is True\n",
    "\n",
    "Syntax : np.any(array, axis)"
   ]
  },
  {
   "cell_type": "code",
   "execution_count": 38,
   "metadata": {},
   "outputs": [
    {
     "data": {
      "text/plain": [
       "True"
      ]
     },
     "execution_count": 38,
     "metadata": {},
     "output_type": "execute_result"
    }
   ],
   "source": [
    "np.any([True, False, False])"
   ]
  },
  {
   "cell_type": "markdown",
   "metadata": {},
   "source": [
    "__All()__ : Returns True if all elements are True else return False\n",
    "\n",
    "Syntax : np.all(array, axis)"
   ]
  },
  {
   "cell_type": "code",
   "execution_count": 39,
   "metadata": {},
   "outputs": [
    {
     "data": {
      "text/plain": [
       "False"
      ]
     },
     "execution_count": 39,
     "metadata": {},
     "output_type": "execute_result"
    }
   ],
   "source": [
    "np.all([True, False, True])"
   ]
  },
  {
   "cell_type": "markdown",
   "metadata": {},
   "source": [
    "### Array Shape Manipulation\n",
    "\n",
    "1. Ravel\n",
    "2. Flatten\n",
    "3. Transpose\n",
    "4. Reshaping\n",
    "5. Newaxis\n",
    "6. Expand Dimension\n",
    "7. Resize\n",
    "8. Repeat\n",
    "9. Roll\n",
    "\n",
    "\n",
    "\n",
    "__Ravel__ : Flatting an array. Returns a 1 D array.\n",
    "\n",
    "Syntax : np.ravel(array) or array.ravel()"
   ]
  },
  {
   "cell_type": "code",
   "execution_count": 40,
   "metadata": {},
   "outputs": [
    {
     "name": "stdout",
     "output_type": "stream",
     "text": [
      "[1 2 3 4 5 6]\n",
      "[1 2 3 4 5 6]\n"
     ]
    }
   ],
   "source": [
    "a = np.array([[1,2,3],[4,5,6]])\n",
    "print(np.ravel(a))\n",
    "print(a.ravel())"
   ]
  },
  {
   "cell_type": "markdown",
   "metadata": {},
   "source": [
    "__Flatten__ : It returns a copy of an array collapsed in 1D.\n",
    "\n",
    "Syntax : array.flatten(order)\n",
    "\n",
    "- 'C' : row major flatten (default).\n",
    "- 'F' : column major flatten."
   ]
  },
  {
   "cell_type": "code",
   "execution_count": 41,
   "metadata": {},
   "outputs": [
    {
     "data": {
      "text/plain": [
       "array([1, 4, 2, 5, 3, 6])"
      ]
     },
     "execution_count": 41,
     "metadata": {},
     "output_type": "execute_result"
    }
   ],
   "source": [
    "#flattning a 2D array column major\n",
    "a.flatten('F')"
   ]
  },
  {
   "cell_type": "markdown",
   "metadata": {},
   "source": [
    "__Transpose__ : Converters rows into column and column into rows.\n",
    "\n",
    "Syntax : array.T()"
   ]
  },
  {
   "cell_type": "code",
   "execution_count": 42,
   "metadata": {},
   "outputs": [
    {
     "name": "stdout",
     "output_type": "stream",
     "text": [
      "[[1 2 3]\n",
      " [4 5 6]]\n",
      "\n",
      "Transpose Array \n",
      " [[1 4]\n",
      " [2 5]\n",
      " [3 6]]\n"
     ]
    }
   ],
   "source": [
    "print(a)\n",
    "print(\"\\nTranspose Array \\n\",a.T)"
   ]
  },
  {
   "cell_type": "code",
   "execution_count": 43,
   "metadata": {},
   "outputs": [
    {
     "data": {
      "text/plain": [
       "array([1, 4, 2, 5, 3, 6])"
      ]
     },
     "execution_count": 43,
     "metadata": {},
     "output_type": "execute_result"
    }
   ],
   "source": [
    "#transposing the array and then flattening it\n",
    "a.T.ravel()"
   ]
  },
  {
   "cell_type": "markdown",
   "metadata": {},
   "source": [
    "#### Reshape()\n",
    "Changes the shape of an array without changing it's data.\n",
    "\n",
    "Syntax : np.reshape(array, newshape)"
   ]
  },
  {
   "cell_type": "code",
   "execution_count": 44,
   "metadata": {},
   "outputs": [
    {
     "name": "stdout",
     "output_type": "stream",
     "text": [
      "[0 1 2 3 4 5 6 7]\n",
      "\n",
      " [[[0 1]\n",
      "  [2 3]]\n",
      "\n",
      " [[4 5]\n",
      "  [6 7]]]\n"
     ]
    },
    {
     "data": {
      "text/plain": [
       "3"
      ]
     },
     "execution_count": 44,
     "metadata": {},
     "output_type": "execute_result"
    }
   ],
   "source": [
    "array_new = np.arange(8)\n",
    "print(array_new)\n",
    "\n",
    "#reshaping a vector array to a 3D array\n",
    "print(\"\\n\",np.reshape(array_new,(2,2,2)))\n",
    "np.ndim(np.reshape(array_new,(2,2,2)))"
   ]
  },
  {
   "cell_type": "markdown",
   "metadata": {},
   "source": [
    "__Newaxis()__ : Indexing with np.newaxis will add another dimension to the array.\n",
    "\n",
    "1D becomes 2D\n",
    "\n",
    "2D becomes 3D and so on\n",
    "\n"
   ]
  },
  {
   "cell_type": "code",
   "execution_count": 45,
   "metadata": {},
   "outputs": [
    {
     "name": "stdout",
     "output_type": "stream",
     "text": [
      "2\n",
      "\n",
      " [[[1 4]]\n",
      "\n",
      " [[2 5]]\n",
      "\n",
      " [[3 6]]]\n",
      "\n",
      "Dimension after newaxis:  3\n"
     ]
    }
   ],
   "source": [
    "print(a.ndim)\n",
    "array_transpose_a = a.T[:,np.newaxis]\n",
    "print(\"\\n\",array_transpose_a)\n",
    "print(\"\\nDimension after newaxis: \",array_transpose_a.ndim)"
   ]
  },
  {
   "cell_type": "markdown",
   "metadata": {},
   "source": [
    "__Expand Dimension__ : It expands the shape of an array by inserting new dimension at the axis provided.\n",
    "\n",
    "Syntax : np.expand_dims(array, axis)"
   ]
  },
  {
   "cell_type": "code",
   "execution_count": 46,
   "metadata": {},
   "outputs": [
    {
     "name": "stdout",
     "output_type": "stream",
     "text": [
      "[[[1 2 3]]\n",
      "\n",
      " [[4 5 6]]]\n",
      "\n",
      " [[[1 2 3]\n",
      "  [4 5 6]]]\n"
     ]
    }
   ],
   "source": [
    "print(np.expand_dims(a, axis=1))\n",
    "print(\"\\n\", np.expand_dims(a,axis = 0))"
   ]
  },
  {
   "cell_type": "markdown",
   "metadata": {},
   "source": [
    "__Resize()__\n",
    "\n",
    "Returns a new array with the specifies shape. If the new array is larger than the original array then the new array is filled with repeated copies of the original array.\n",
    "\n",
    "Syntax : np.resize(array, newshape)"
   ]
  },
  {
   "cell_type": "code",
   "execution_count": 47,
   "metadata": {},
   "outputs": [
    {
     "name": "stdout",
     "output_type": "stream",
     "text": [
      "[[1 2 3]\n",
      " [4 5 6]]\n"
     ]
    },
    {
     "data": {
      "text/plain": [
       "array([[1, 2, 3, 4],\n",
       "       [5, 6, 1, 2],\n",
       "       [3, 4, 5, 6]])"
      ]
     },
     "execution_count": 47,
     "metadata": {},
     "output_type": "execute_result"
    }
   ],
   "source": [
    "#original size is 6 and newsize is 12 therefore elements are repeated\n",
    "print(a)\n",
    "np.resize(a, (3,4))"
   ]
  },
  {
   "cell_type": "markdown",
   "metadata": {},
   "source": [
    "__Repeat__ : It repeats element of an array.\n",
    "\n",
    "Syntax : np.repeat(array, repeats, axis)"
   ]
  },
  {
   "cell_type": "code",
   "execution_count": 48,
   "metadata": {},
   "outputs": [
    {
     "name": "stdout",
     "output_type": "stream",
     "text": [
      "[[1 1 2 2 3 3]\n",
      " [4 4 5 5 6 6]]\n",
      "\n",
      " [1 1 2 2 3 3 4 4 5 5 6 6]\n"
     ]
    }
   ],
   "source": [
    "print(np.repeat(a,2, axis=1))\n",
    "print('\\n',np.repeat(a,2))"
   ]
  },
  {
   "cell_type": "markdown",
   "metadata": {},
   "source": [
    "__Roll__ : Roll array elements along a given axis. If axis is not given then it flattens the array, shifts it and then restore the original position.\n",
    "\n",
    "Syntax : np.roll(array, shift, axis)"
   ]
  },
  {
   "cell_type": "code",
   "execution_count": 49,
   "metadata": {},
   "outputs": [
    {
     "name": "stdout",
     "output_type": "stream",
     "text": [
      "[[5 6 1]\n",
      " [2 3 4]]\n",
      "\n",
      " [[2 3 1]\n",
      " [5 6 4]]\n",
      "\n",
      " [[4 5 6]\n",
      " [1 2 3]]\n"
     ]
    }
   ],
   "source": [
    "print(np.roll(a,2))\n",
    "print('\\n', np.roll(a,2,axis=1))\n",
    "print('\\n', np.roll(a,1,axis=0))"
   ]
  },
  {
   "cell_type": "markdown",
   "metadata": {},
   "source": [
    "### Universal Function\n",
    "\n",
    "Numpy provide useful mathematical functions, which are called universal functions. These function operates element wise and return an array. Few of them are listed below:\n",
    "\n",
    "1. Sqrt\n",
    "2. Cos\n",
    "3. Exp\n",
    "4. Log\n",
    "\n",
    "\n",
    "\n",
    "\n",
    "__Sqrt__ : Returns the non negative square root of the array."
   ]
  },
  {
   "cell_type": "code",
   "execution_count": 50,
   "metadata": {},
   "outputs": [
    {
     "data": {
      "text/plain": [
       "array([1.        , 1.41421356, 1.73205081, 2.        ])"
      ]
     },
     "execution_count": 50,
     "metadata": {},
     "output_type": "execute_result"
    }
   ],
   "source": [
    "array_sqrt = np.array([1,2,3,4])\n",
    "np.sqrt(array_sqrt)"
   ]
  },
  {
   "cell_type": "markdown",
   "metadata": {},
   "source": [
    "__Cos__ : Return cosine value of array element wise"
   ]
  },
  {
   "cell_type": "code",
   "execution_count": 51,
   "metadata": {},
   "outputs": [
    {
     "data": {
      "text/plain": [
       "array([ 0.54030231, -0.41614684, -0.9899925 , -0.65364362])"
      ]
     },
     "execution_count": 51,
     "metadata": {},
     "output_type": "execute_result"
    }
   ],
   "source": [
    "np.cos(array_sqrt)"
   ]
  },
  {
   "cell_type": "markdown",
   "metadata": {},
   "source": [
    "__Exp__ : Calculate the exponential of all elements in the input array."
   ]
  },
  {
   "cell_type": "code",
   "execution_count": 52,
   "metadata": {},
   "outputs": [
    {
     "data": {
      "text/plain": [
       "array([ 2.71828183,  7.3890561 , 20.08553692, 54.59815003])"
      ]
     },
     "execution_count": 52,
     "metadata": {},
     "output_type": "execute_result"
    }
   ],
   "source": [
    "np.exp(array_sqrt)"
   ]
  },
  {
   "cell_type": "markdown",
   "metadata": {},
   "source": [
    "__Log__ : Return natural logarithm, element wise"
   ]
  },
  {
   "cell_type": "code",
   "execution_count": 53,
   "metadata": {},
   "outputs": [
    {
     "data": {
      "text/plain": [
       "array([0.        , 0.69314718, 1.09861229, 1.38629436])"
      ]
     },
     "execution_count": 53,
     "metadata": {},
     "output_type": "execute_result"
    }
   ],
   "source": [
    "np.log(array_sqrt)"
   ]
  },
  {
   "cell_type": "markdown",
   "metadata": {},
   "source": [
    "### Example\n",
    "\n",
    "Data in populations.txt describes the populations of hares and lynxes and carrots in northern Canada during 20 years."
   ]
  },
  {
   "cell_type": "code",
   "execution_count": 54,
   "metadata": {},
   "outputs": [
    {
     "data": {
      "text/plain": [
       "array([[ 1900., 30000.,  4000., 48300.],\n",
       "       [ 1901., 47200.,  6100., 48200.],\n",
       "       [ 1902., 70200.,  9800., 41500.],\n",
       "       [ 1903., 77400., 35200., 38200.],\n",
       "       [ 1904., 36300., 59400., 40600.],\n",
       "       [ 1905., 20600., 41700., 39800.],\n",
       "       [ 1906., 18100., 19000., 38600.],\n",
       "       [ 1907., 21400., 13000., 42300.],\n",
       "       [ 1908., 22000.,  8300., 44500.],\n",
       "       [ 1909., 25400.,  9100., 42100.],\n",
       "       [ 1910., 27100.,  7400., 46000.],\n",
       "       [ 1911., 40300.,  8000., 46800.],\n",
       "       [ 1912., 57000., 12300., 43800.],\n",
       "       [ 1913., 76600., 19500., 40900.],\n",
       "       [ 1914., 52300., 45700., 39400.],\n",
       "       [ 1915., 19500., 51100., 39000.],\n",
       "       [ 1916., 11200., 29700., 36700.],\n",
       "       [ 1917.,  7600., 15800., 41800.],\n",
       "       [ 1918., 14600.,  9700., 43300.],\n",
       "       [ 1919., 16200., 10100., 41300.],\n",
       "       [ 1920., 24700.,  8600., 47300.]])"
      ]
     },
     "execution_count": 54,
     "metadata": {},
     "output_type": "execute_result"
    }
   ],
   "source": [
    "#load data from text file, each row should have equal number of values\n",
    "\n",
    "population = np.loadtxt('populations.txt')\n",
    "population"
   ]
  },
  {
   "cell_type": "code",
   "execution_count": 55,
   "metadata": {},
   "outputs": [
    {
     "name": "stdout",
     "output_type": "stream",
     "text": [
      "[1900. 1901. 1902. 1903. 1904. 1905. 1906. 1907. 1908. 1909. 1910. 1911.\n",
      " 1912. 1913. 1914. 1915. 1916. 1917. 1918. 1919. 1920.]\n"
     ]
    }
   ],
   "source": [
    "year,hares,lynxes,carrots = population.T\n",
    "print(year)"
   ]
  },
  {
   "cell_type": "code",
   "execution_count": 56,
   "metadata": {},
   "outputs": [
    {
     "name": "stdout",
     "output_type": "stream",
     "text": [
      "mean of hares:  34080.95238095238\n",
      "mean of lynxes:  20166.666666666668\n",
      "mean of carrot:  42400.0\n"
     ]
    }
   ],
   "source": [
    "populations = population[:,1:]\n",
    "hares_mean,lyn_mean,carr_mean = np.mean(populations,axis=0)\n",
    "print(\"mean of hares: \",hares_mean)\n",
    "print(\"mean of lynxes: \",lyn_mean)\n",
    "print(\"mean of carrot: \",carr_mean)"
   ]
  },
  {
   "cell_type": "code",
   "execution_count": 57,
   "metadata": {},
   "outputs": [
    {
     "name": "stdout",
     "output_type": "stream",
     "text": [
      "1900 carrots\n",
      "1901 carrots\n",
      "1902 hares\n",
      "1903 hares\n",
      "1904 lynxes\n",
      "1905 lynxes\n",
      "1906 carrots\n",
      "1907 carrots\n",
      "1908 carrots\n",
      "1909 carrots\n",
      "1910 carrots\n",
      "1911 carrots\n",
      "1912 hares\n",
      "1913 hares\n",
      "1914 hares\n",
      "1915 lynxes\n",
      "1916 carrots\n",
      "1917 carrots\n",
      "1918 carrots\n",
      "1919 carrots\n",
      "1920 carrots\n"
     ]
    }
   ],
   "source": [
    "maximum_value = np.argmax(populations,axis=1)\n",
    "for y,i in zip(year,maximum_value):\n",
    "    if i ==0:\n",
    "        print(int(y),\"hares\")\n",
    "    elif i ==1:\n",
    "        print(int(y),\"lynxes\")\n",
    "    elif i ==2:\n",
    "        print(int(y),\"carrots\")\n",
    "    "
   ]
  },
  {
   "cell_type": "markdown",
   "metadata": {},
   "source": [
    "### Random Functions"
   ]
  },
  {
   "cell_type": "markdown",
   "metadata": {},
   "source": [
    "__Randn__ : Generate random samples from standard normal distribution\n",
    "\n",
    "Syntax: np.random.randn(shape)\n"
   ]
  },
  {
   "cell_type": "code",
   "execution_count": 58,
   "metadata": {},
   "outputs": [
    {
     "data": {
      "text/plain": [
       "array([[ 0.7391297 , -1.47223285],\n",
       "       [-1.04201115, -0.46156385],\n",
       "       [-1.42430313,  1.43850449]])"
      ]
     },
     "execution_count": 58,
     "metadata": {},
     "output_type": "execute_result"
    }
   ],
   "source": [
    "np.random.randn(3,2)"
   ]
  },
  {
   "cell_type": "markdown",
   "metadata": {},
   "source": [
    "__Rand__ : It generates an array of given shape with random samples from uniform distribution.\n",
    "\n",
    "Syntax : np.random.rand()"
   ]
  },
  {
   "cell_type": "code",
   "execution_count": 59,
   "metadata": {},
   "outputs": [
    {
     "data": {
      "text/plain": [
       "array([[0.93590121, 0.68280076],\n",
       "       [0.35415953, 0.99926221],\n",
       "       [0.17751264, 0.38917609]])"
      ]
     },
     "execution_count": 59,
     "metadata": {},
     "output_type": "execute_result"
    }
   ],
   "source": [
    "np.random.rand(3,2)"
   ]
  },
  {
   "cell_type": "markdown",
   "metadata": {},
   "source": [
    "__Randint__ : It generated random integers from low(inclusive) and high(exclusive) from discrete uniform distribution.\n",
    "\n",
    "Syntax : np.random.randint(low, high, size)"
   ]
  },
  {
   "cell_type": "code",
   "execution_count": 60,
   "metadata": {},
   "outputs": [
    {
     "data": {
      "text/plain": [
       "array([[52, 97,  2, 79],\n",
       "       [70, 25, 32, 52],\n",
       "       [15, 85, 36, 79]])"
      ]
     },
     "execution_count": 60,
     "metadata": {},
     "output_type": "execute_result"
    }
   ],
   "source": [
    "np.random.randint(1,100,(3,4))"
   ]
  },
  {
   "cell_type": "markdown",
   "metadata": {},
   "source": [
    "### Broadcasting\n",
    "\n",
    "Basic operation on numpy array is elementwise.\n",
    "\n",
    "Numpy uses boradcasting techniques to carry out airthmatic techniques on different size arrays. In this method, Numpy automatically broadcast on the larger array.\n",
    "\n",
    "<div>\n",
    "    <img src=\"https://raw.githubusercontent.com/theserenecoder/python-learning/main/images/broadcasting.png">\n",
    "</div>"
   ]
  },
  {
   "cell_type": "code",
   "execution_count": 61,
   "metadata": {},
   "outputs": [
    {
     "name": "stdout",
     "output_type": "stream",
     "text": [
      "[[ 0 10 20 30]\n",
      " [ 0 10 20 30]\n",
      " [ 0 10 20 30]]\n",
      "\n",
      " [[ 0  0  0]\n",
      " [10 10 10]\n",
      " [20 20 20]\n",
      " [30 30 30]]\n"
     ]
    }
   ],
   "source": [
    "#creating a 2D array\n",
    "array_a = np.tile([0,10,20,30],(3,1))\n",
    "print(array_a)\n",
    "\n",
    "#transposing array\n",
    "array_a = array_a.T\n",
    "print(\"\\n\",array_a)"
   ]
  },
  {
   "cell_type": "code",
   "execution_count": 62,
   "metadata": {},
   "outputs": [
    {
     "data": {
      "text/plain": [
       "array([0, 1, 2])"
      ]
     },
     "execution_count": 62,
     "metadata": {},
     "output_type": "execute_result"
    }
   ],
   "source": [
    "#creating a 1D array\n",
    "array_b = np.array([0,1,2])\n",
    "array_b"
   ]
  },
  {
   "cell_type": "code",
   "execution_count": 63,
   "metadata": {},
   "outputs": [
    {
     "data": {
      "text/plain": [
       "array([[ 0,  1,  2],\n",
       "       [10, 11, 12],\n",
       "       [20, 21, 22],\n",
       "       [30, 31, 32]])"
      ]
     },
     "execution_count": 63,
     "metadata": {},
     "output_type": "execute_result"
    }
   ],
   "source": [
    "#adding both the arrays\n",
    "array_a + array_b"
   ]
  },
  {
   "cell_type": "code",
   "execution_count": 64,
   "metadata": {},
   "outputs": [
    {
     "name": "stdout",
     "output_type": "stream",
     "text": [
      "[[ 0]\n",
      " [10]\n",
      " [20]\n",
      " [30]]\n"
     ]
    },
    {
     "data": {
      "text/plain": [
       "array([[ 0,  1,  2],\n",
       "       [10, 11, 12],\n",
       "       [20, 21, 22],\n",
       "       [30, 31, 32]])"
      ]
     },
     "execution_count": 64,
     "metadata": {},
     "output_type": "execute_result"
    }
   ],
   "source": [
    "#creating a 1D array\n",
    "array_c = np.array([0,10,20,30])\n",
    "\n",
    "#resizing it in to 2D array of 4x1 dim\n",
    "array_c = np.resize(array_c,(4,1))\n",
    "print(array_c)\n",
    "\n",
    "#adding both the arrays returns 4x3 dim array\n",
    "array_c + array_b"
   ]
  },
  {
   "cell_type": "markdown",
   "metadata": {},
   "source": [
    "### String Operations"
   ]
  },
  {
   "cell_type": "code",
   "execution_count": 65,
   "metadata": {},
   "outputs": [
    {
     "data": {
      "text/plain": [
       "array(['ASHU', 'SHANU', 'DAKSH'], dtype='<U5')"
      ]
     },
     "execution_count": 65,
     "metadata": {},
     "output_type": "execute_result"
    }
   ],
   "source": [
    "#converting all the elements to upper case\n",
    "arr2 = np.array(['ashu','shanu','daksh'])\n",
    "np.char.upper(arr2)"
   ]
  },
  {
   "cell_type": "code",
   "execution_count": 66,
   "metadata": {},
   "outputs": [
    {
     "data": {
      "text/plain": [
       "array(['Ashu', 'Shanu', 'Daksh'], dtype='<U5')"
      ]
     },
     "execution_count": 66,
     "metadata": {},
     "output_type": "execute_result"
    }
   ],
   "source": [
    "#converting all the elements to tital case\n",
    "np.char.title(arr2)"
   ]
  },
  {
   "cell_type": "code",
   "execution_count": 67,
   "metadata": {},
   "outputs": [
    {
     "data": {
      "text/plain": [
       "array([ True,  True,  True])"
      ]
     },
     "execution_count": 67,
     "metadata": {},
     "output_type": "execute_result"
    }
   ],
   "source": [
    "#checking if all elements contains only alphabets\n",
    "np.char.isalpha(arr2)"
   ]
  },
  {
   "cell_type": "code",
   "execution_count": 68,
   "metadata": {},
   "outputs": [
    {
     "data": {
      "text/plain": [
       "array([list(['my', 'name', 'is', 'ashu']),\n",
       "       list(['my', 'name', 'is', 'shanu'])], dtype=object)"
      ]
     },
     "execution_count": 68,
     "metadata": {},
     "output_type": "execute_result"
    }
   ],
   "source": [
    "#for each element in array returns a list of the word in string\n",
    "arr3 = np.array(['my name is ashu','my name is shanu'])\n",
    "np.char.split(arr3, sep=' ')"
   ]
  },
  {
   "cell_type": "markdown",
   "metadata": {},
   "source": [
    "### Sorting, Searching and Counting Functions"
   ]
  },
  {
   "cell_type": "markdown",
   "metadata": {},
   "source": [
    "__Sort__ : It returns a sorted copy of an array\n",
    "\n",
    "Syntax : np.sort(array, axis, kind, order)\n",
    "\n",
    " - kind : 'quicksort','mergesort','heapsort','stable'\n",
    " - order : specifies which fields to compare first, second etc."
   ]
  },
  {
   "cell_type": "code",
   "execution_count": 69,
   "metadata": {},
   "outputs": [
    {
     "name": "stdout",
     "output_type": "stream",
     "text": [
      "Original Array : [ 4  3  5  6  7  4  3  2 62 34  4 15 36]\n",
      "\n",
      " Sorted Array : [ 2  3  3  4  4  4  5  6  7 15 34 36 62]\n"
     ]
    }
   ],
   "source": [
    "#sorting an array\n",
    "arr4 = np.array([4,3,5,6,7,4,3,2,62,34,4,15,36])\n",
    "print(\"Original Array :\",arr4)\n",
    "print(\"\\n Sorted Array :\",np.sort(arr4))"
   ]
  },
  {
   "cell_type": "markdown",
   "metadata": {},
   "source": [
    "__Search Sorted__ : It finds index where element should be inserted to maintain the order.\n",
    "\n",
    "Sytax : np.searchsorted(array, value, side)"
   ]
  },
  {
   "cell_type": "code",
   "execution_count": 70,
   "metadata": {},
   "outputs": [
    {
     "data": {
      "text/plain": [
       "12"
      ]
     },
     "execution_count": 70,
     "metadata": {},
     "output_type": "execute_result"
    }
   ],
   "source": [
    "np.searchsorted(arr4, 25)"
   ]
  },
  {
   "cell_type": "markdown",
   "metadata": {},
   "source": [
    "__Count Nonzero__ : Count the number of non-zero values in an array\n",
    "\n",
    "Syntax : np.count_nonzero(array, axis)"
   ]
  },
  {
   "cell_type": "code",
   "execution_count": 71,
   "metadata": {},
   "outputs": [
    {
     "data": {
      "text/plain": [
       "3"
      ]
     },
     "execution_count": 71,
     "metadata": {},
     "output_type": "execute_result"
    }
   ],
   "source": [
    "arr5 = np.array([0,0,0,23,43,0,0,0,0,56,0,0])\n",
    "np.count_nonzero(arr5)"
   ]
  },
  {
   "cell_type": "markdown",
   "metadata": {},
   "source": [
    "__Where__ : Return elements chosed from x(if condition met) and y depending on condition. If only condition is given returns indexes where condition is true.\n",
    "\n",
    "Syntax : np.where(condition, x,y)"
   ]
  },
  {
   "cell_type": "code",
   "execution_count": 72,
   "metadata": {},
   "outputs": [
    {
     "name": "stdout",
     "output_type": "stream",
     "text": [
      "(array([ 8,  9, 12], dtype=int64),)\n",
      "\n",
      " [0 0 0 0 0 0 0 0 1 1 0 0 1]\n"
     ]
    }
   ],
   "source": [
    "#returns an array with indexes of element which sastisfy condition\n",
    "print(np.where(arr4>25))\n",
    "\n",
    "#return a list, 0 if condition false, 1 if condition true\n",
    "print(\"\\n\",np.where(arr4>25,1,0))"
   ]
  },
  {
   "cell_type": "markdown",
   "metadata": {},
   "source": [
    "### Array Iterations using nditer\n",
    "\n",
    "__nditer__ : It provides flexible ways to iterate over an nd array. We can control iteration order by passing order type in attributes, C for row major and F for column major, by default its K which is similar to the memory location.\n",
    "\n",
    "Syntax : np.nditer(array, order, op_flags)"
   ]
  },
  {
   "cell_type": "code",
   "execution_count": 73,
   "metadata": {},
   "outputs": [
    {
     "name": "stdout",
     "output_type": "stream",
     "text": [
      "[[0 1 2]\n",
      " [3 4 5]] \n",
      "\n",
      "0 1 2 3 4 5 "
     ]
    }
   ],
   "source": [
    "#creating an array\n",
    "a = np.arange(6).reshape(2,3)\n",
    "print(a,\"\\n\")\n",
    "\n",
    "#iterating over array\n",
    "for i in np.nditer(a):\n",
    "    print(i, end = \" \")"
   ]
  },
  {
   "cell_type": "markdown",
   "metadata": {},
   "source": [
    "In the below example though we have iterated over the transpose array but it stills prints in the same order as without transposing. This happens because array a is stored in similar order in the memory location and the current order is K. To over come this we need to change the order from default to C."
   ]
  },
  {
   "cell_type": "code",
   "execution_count": 74,
   "metadata": {},
   "outputs": [
    {
     "name": "stdout",
     "output_type": "stream",
     "text": [
      "0 3 1 4 2 5 "
     ]
    }
   ],
   "source": [
    "for i in np.nditer(a.T, order = 'C'):\n",
    "    print(i, end = ' ')"
   ]
  },
  {
   "cell_type": "markdown",
   "metadata": {},
   "source": [
    "__Modify Array Elements__\n",
    "\n",
    "To modify array elements we need to set attribute __op_flags__ to _'readwrite'_ or _'writeonly'_. This will create a writeable buffer for array which we can modify. Though to copy this buffer data back to original array we need to use it _'with'_ statement."
   ]
  },
  {
   "cell_type": "code",
   "execution_count": 75,
   "metadata": {},
   "outputs": [
    {
     "name": "stdout",
     "output_type": "stream",
     "text": [
      "[[0 1 2]\n",
      " [3 4 5]] \n",
      "\n",
      "[[ 0  1  2]\n",
      " [ 6  8 10]]\n"
     ]
    }
   ],
   "source": [
    "print(a,\"\\n\")\n",
    "\n",
    "#modifying values of array where array element is greater than 2\n",
    "with np.nditer(a, op_flags = ['readwrite']) as it:\n",
    "    for x in it:\n",
    "        if x >2:\n",
    "            x[...] = x*2\n",
    "print(a)"
   ]
  }
 ],
 "metadata": {
  "kernelspec": {
   "display_name": "Python 3 (ipykernel)",
   "language": "python",
   "name": "python3"
  },
  "language_info": {
   "codemirror_mode": {
    "name": "ipython",
    "version": 3
   },
   "file_extension": ".py",
   "mimetype": "text/x-python",
   "name": "python",
   "nbconvert_exporter": "python",
   "pygments_lexer": "ipython3",
   "version": "3.9.12"
  }
 },
 "nbformat": 4,
 "nbformat_minor": 4
}
