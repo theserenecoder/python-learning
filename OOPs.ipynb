{
 "cells": [
  {
   "cell_type": "markdown",
   "metadata": {},
   "source": [
    "### Object Oriented Programing (OOP)\n"
   ]
  },
  {
   "cell_type": "markdown",
   "metadata": {},
   "source": [
    "OOP is a way of structuring a program to wrapup related attributes and functions into individual objects. \n",
    "Classes are user defined data structures consisting of methods and attributes."
   ]
  },
  {
   "cell_type": "code",
   "execution_count": 61,
   "metadata": {},
   "outputs": [
    {
     "name": "stdout",
     "output_type": "stream",
     "text": [
      "Moti is 9 years old\n"
     ]
    }
   ],
   "source": [
    "#parent class\n",
    "class Dog:                              \n",
    "\n",
    "    # class variable/attribute\n",
    "    species = \"Canis Familiaris\"        # same value for all class variable.\n",
    "        \n",
    "# instance method. dunder method\n",
    "# all statements under __init__ are executed at the time of object creation.\n",
    "# when a new class instance is created, the instance is automatically passed to the self parameter in .__init__()\n",
    "# all Dog objects have a name and an age, but the values for these attributes will vary depending on the Dog instance.\n",
    "    \n",
    "    def __init__(self,name,age):        # first parameter will always be self\n",
    "        \n",
    "        #instance variable/attribute\n",
    "        self.name = name                # create an attribute called name and assigned to it the value of name\n",
    "        self.age = age                  # create an attribute called age and assigned to it the value of age\n",
    "                 \n",
    "    # dunder methond special instance method of class to print string with instance variable\n",
    "    def __str__(self):                                          \n",
    "        return f\"{self.name} is {self.age} years old\"           # f-string for formatting \n",
    "    \n",
    "    # method for sound\n",
    "    def speak(self,sound): \n",
    "        self.sound = sound\n",
    "        return f\"{self.name} says {self.sound}\"\n",
    "        \n",
    "\n",
    "        \n",
    "# object of Dof class\n",
    "Moti = Dog(\"Moti\", 9)\n",
    "Mittu = Dog(\"Mittu\",10)\n",
    "\n",
    "print(Moti)\n",
    "\n"
   ]
  },
  {
   "cell_type": "markdown",
   "metadata": {},
   "source": [
    "### Constructors\n",
    "\n",
    "Constructors are used for instantiating an object. **_ _init_ _** is called the constructor and all the statements under **_ _init_ _** are executed at the time of object creation. There are two type of constructors\n",
    "1. **Dynamic Constructors** : This constructor does not accept any argument and have only self which is the reference to the instance beign constructed.\n",
    "\n",
    "```Python\n",
    "class Dog():\n",
    "    def __init__(self):\n",
    "        self.species = \"I am a Dog\"\n",
    "```      "
   ]
  },
  {
   "cell_type": "markdown",
   "metadata": {},
   "source": [
    "2. **Parametierized Constructors** : This constructor accepts parameter but first parameter will be self.\n",
    "\n",
    " ```Python\n",
    " class Dog():\n",
    "     def __init__(self,name,age):\n",
    "         self.name = name\n",
    "         self.age = age\n",
    "         ```"
   ]
  },
  {
   "cell_type": "markdown",
   "metadata": {},
   "source": [
    "### Destructor\n",
    "\n",
    "Destructors are called when an object is destroyed, but Python has a garbage collector which automatically handles memory management. **_ _del_ _** method is known as destructor method in python.   "
   ]
  },
  {
   "cell_type": "code",
   "execution_count": 20,
   "metadata": {},
   "outputs": [
    {
     "name": "stdout",
     "output_type": "stream",
     "text": [
      "starting\n",
      "Dog Object created\n",
      "Dog object destroyed\n"
     ]
    }
   ],
   "source": [
    "class Dog1():\n",
    "    \n",
    "    # initialising\n",
    "    def __init__(self):\n",
    "        print(\"Dog Object created\")\n",
    "            \n",
    "    # calling destructor\n",
    "    def __del__(self):\n",
    "        print(\"Dog object destroyed\")\n",
    "        \n",
    "print(\"starting\")\n",
    "A = Dog1()"
   ]
  },
  {
   "cell_type": "markdown",
   "metadata": {},
   "source": [
    "### Inheritance "
   ]
  },
  {
   "cell_type": "markdown",
   "metadata": {},
   "source": [
    "Inheritance is the process by which one class inherits the attributes and methods of another class. The new class formed is called \"child class\" and the class it inherits from is called as \"parent class\". \n",
    "\n",
    "1. Reperesents real world relationships.\n",
    "2. Reusability of code.\n",
    "3. Transitive in nature, means if B inherits from A then all the sub-class of B also inherits from A.\n",
    "\n",
    "Child class can override and extend the attributed of parent class."
   ]
  },
  {
   "cell_type": "code",
   "execution_count": 44,
   "metadata": {},
   "outputs": [
    {
     "name": "stdout",
     "output_type": "stream",
     "text": [
      "Bulls is 9 years old\n",
      "Bulls says 9\n"
     ]
    }
   ],
   "source": [
    "# child class using parent class attributes name and age\n",
    "class BullDog(Dog):                        \n",
    "         \n",
    "    # child class method can only be called by child class object\n",
    "    def info(self):   \n",
    "        return f\"{self.name} says {self.age}\"\n",
    "\n",
    "# object of child class BullDog    \n",
    "bulls = BullDog(\"Bulls\",9)                \n",
    "print(bulls)\n",
    "print(bulls.info())        "
   ]
  },
  {
   "cell_type": "markdown",
   "metadata": {},
   "source": [
    "To use parent class instance variable we need to invoke parent class __init__ under child class."
   ]
  },
  {
   "cell_type": "markdown",
   "metadata": {},
   "source": [
    "### Type of Inheritance\n",
    "\n",
    "1. **Single Inheritance** - When a child class inherits form only one parent class. We saw the example above."
   ]
  },
  {
   "cell_type": "code",
   "execution_count": 62,
   "metadata": {},
   "outputs": [
    {
     "name": "stdout",
     "output_type": "stream",
     "text": [
      "Dolla is 9, Brown color\n",
      "Dolla says woof woof\n"
     ]
    }
   ],
   "source": [
    "# child class using the parent class attributes and extending it.\n",
    "class GermanShephard(Dog):\n",
    "    \n",
    "    # instance method\n",
    "    def __init__(self,name,age,color):\n",
    "        self.color = color\n",
    "        \n",
    "        #invoking the __init__ of parent class\n",
    "        Dog.__init__(self,name,age)\n",
    "        \n",
    "    def says(self):\n",
    "        return f\"{self.name} is {self.age}, {self.color} color\"\n",
    "\n",
    "# object creation \n",
    "dolla = GermanShephard(\"Dolla\",9,\"Brown\")\n",
    "\n",
    "#calling a function of the child class using its instance\n",
    "print(dolla.says())\n",
    "\n",
    "# calling a function of class Dog using it's instance\n",
    "print(dolla.speak(\"woof woof\"))"
   ]
  },
  {
   "cell_type": "markdown",
   "metadata": {},
   "source": [
    "2. **Multiple Inheritance** - When a child class inherits form multiple parent class."
   ]
  },
  {
   "cell_type": "code",
   "execution_count": 81,
   "metadata": {},
   "outputs": [
    {
     "name": "stdout",
     "output_type": "stream",
     "text": [
      "Mitthu is 10 years old. Mitthu has 4 legs and 1 tail\n"
     ]
    }
   ],
   "source": [
    "# second parent class\n",
    "class Mammals():\n",
    "     \n",
    "    # instance method/ constructor\n",
    "    def __init__(self):\n",
    "        self.legs = 4\n",
    "        self.tail = 1\n",
    "        \n",
    "# child class inheriting from multiple class                \n",
    "class Boxer(Dog,Mammals):\n",
    "    \n",
    "    # constructor\n",
    "    def __init__(self,name,age):\n",
    "        #invoking the __init__ of parent class\n",
    "        Dog.__init__(self,name,age)\n",
    "        Mammals.__init__(self)\n",
    "    \n",
    "    # method to use parent class attributes\n",
    "    def info(self):\n",
    "        return f\"{self.name} is {self.age} years old. {self.name} has {self.legs} legs and {self.tail} tail\"       \n",
    "    \n",
    "    \n",
    "# object creation\n",
    "mittu = Boxer(\"Mitthu\",10)\n",
    "# calling a function of child class\n",
    "print(mittu.info())"
   ]
  },
  {
   "cell_type": "markdown",
   "metadata": {},
   "source": [
    "3. **Multilevel Inheritance** - When we have child and grandchild relationship.\n",
    "<div>"
    "<img src=\"https://raw.githubusercontent.com/theserenecoder/python-learning/master/images/Multilevel_Inheritance.JPG\" width=150>\n",
    "</div>"
    "\n",
    "4. **Hierarchical Inheritance** - Multiple child classes created from 1 parent class.\n",
    "<img src=\"https://raw.githubusercontent.com/theserenecoder/python-learning/master/images/Hierarchical_Inheritance.JPG\" width=400>\n",
    "\n",
    "5. **Hybrid Inheritance** - Multiple type of inheritance is called hybrid.\n",
    "<img src=\"https://raw.githubusercontent.com/theserenecoder/python-learning/master/images/Hybrid_Inheritance.JPG\" width=400>"
   ]
  },
  {
   "cell_type": "markdown",
   "metadata": {},
   "source": [
    "### Encapsulation\n",
    "\n",
    "It is the idea of bundling the data and the method that works on data within one unit. This puts restriction on accessing variable and methods directly and can prevent the accidental modification of the data. \n",
    "\n",
    "Though Python doesn't have any mechanism to effectively restrcit access to any instance variable and method. It uses a convention of prefixing single or double underscore in the name of variable/method.\n",
    "\n",
    "**_d   = Protected**\n",
    "\n",
    "**_ _d = Private**\n",
    "\n",
    "There are three type of access modifiers:\n",
    "1. **Public** : are accessible from outside the class. The object of the class need to invoke a public method.\n",
    "\n",
    "```Python\n",
    "class Dog:\n",
    "     def __init__(self,name, age):\n",
    "        self.name = name\n",
    "        self.age = age        \n",
    "mittu = Dog(\"Mittu\",9)\n",
    "mittu.name```\n",
    "\n",
    "\n",
    "2. **Protected** : are accessible from within the class and are also available to its child classes. No other enviornment can access it.\n",
    "\n",
    "```Python\n",
    "class Dog:\n",
    "    def __init__(self,name,age):\n",
    "        self._name = name\n",
    "        self._age = age\n",
    "        \n",
    "class BullDog(Dog):\n",
    "    def __init__(self,name,age):\n",
    "        Dog.__init__(self,name,age)\n",
    "        print(self._name) <--------\n",
    "\n",
    "mittu = BullDog(\"Mittu\",9)```\n",
    "\n",
    "3. **Private** : are only accessible form within the class and denied access from outside the class.\n",
    "\n",
    "\n",
    "\n",
    "```Python\n",
    "class Dog:\n",
    "    def __init__(self,name,age):\n",
    "        self.__name = name\n",
    "        self.__age = age\n",
    "        \n",
    "class BullDog(Dog):\n",
    "    def __init__(self,name,age):\n",
    "        Dog.__init__(self,name,age)\n",
    "        print(self.__name) <--------\n",
    "mittu = BullDog(\"Mittu\",9)```\n",
    "\n",
    "__*Calling _ _name in child class will raise Attribute error*__"
   ]
  },
  {
   "cell_type": "markdown",
   "metadata": {},
   "source": [
    "###  Polymorphism\n",
    "\n",
    "Ploymorphism means same function name being used for different types. It allow us to define methods in the child class with the same name as in Parent class."
   ]
  },
  {
   "cell_type": "code",
   "execution_count": 38,
   "metadata": {},
   "outputs": [
    {
     "name": "stdout",
     "output_type": "stream",
     "text": [
      "New Delhi is the capital of India.\n",
      "Hindi is the most widely spoken language of India.\n",
      "Ottawa is the capital of Canada.\n",
      "English is the primary language of Canada.\n"
     ]
    }
   ],
   "source": [
    "class India(): \n",
    "    def capital(self): \n",
    "        print(\"New Delhi is the capital of India.\") \n",
    "  \n",
    "    def language(self): \n",
    "        print(\"Hindi is the most widely spoken language of India.\") \n",
    "\n",
    "        \n",
    "class Canada(): \n",
    "    def capital(self): \n",
    "        print(\"Ottawa is the capital of Canada.\") \n",
    "  \n",
    "    def language(self): \n",
    "        print(\"English is the primary language of Canada.\") \n",
    "  \n",
    "    def type(self): \n",
    "        print(\"USA is a developed country.\") \n",
    "\n",
    "ind = India() \n",
    "can = Canada() \n",
    "for country in (ind, can): \n",
    "    country.capital() \n",
    "    country.language() \n"
   ]
  },
  {
   "cell_type": "markdown",
   "metadata": {},
   "source": [
    "**Method Overloading** is the process of re-implementing a method in the child class inherited from parent class."
   ]
  },
  {
   "cell_type": "code",
   "execution_count": 39,
   "metadata": {},
   "outputs": [
    {
     "name": "stdout",
     "output_type": "stream",
     "text": [
      "New Delhi is the capital of India.\n",
      "Hindi is the most widely spoken language of India.\n",
      "Bangalore is the capital of Karnataka\n",
      "Kannada is the most widely spoken language of Karnataka\n"
     ]
    }
   ],
   "source": [
    "# parent class\n",
    "class India(): \n",
    "    def capital(self): \n",
    "        print(\"New Delhi is the capital of India.\") \n",
    "  \n",
    "    def language(self): \n",
    "        print(\"Hindi is the most widely spoken language of India.\") \n",
    "\n",
    "# child class\n",
    "class Karnataka(India):\n",
    "    def capital(self):\n",
    "        print(\"Bangalore is the capital of Karnataka\")\n",
    "        \n",
    "    def language(self):\n",
    "        print(\"Kannada is the most widely spoken language of Karnataka\")\n",
    "        \n",
    "obj_ind = India()\n",
    "obj_kar = Karnataka()\n",
    "\n",
    "# calling function of parent class\n",
    "obj_ind.capital()\n",
    "obj_ind.language()\n",
    "\n",
    "# calling function of child class\n",
    "obj_kar.capital()\n",
    "obj_kar.language()"
   ]
  },
  {
   "cell_type": "code",
   "execution_count": 41,
   "metadata": {},
   "outputs": [
    {
     "name": "stdout",
     "output_type": "stream",
     "text": [
      "New Delhi is the capital of India.\n",
      "Hindi is the most widely spoken language of India.\n",
      "Bangalore is the capital of Karnataka\n",
      "Kannada is the most widely spoken language of Karnataka\n"
     ]
    }
   ],
   "source": [
    "# Implementing polymorphism with a function\n",
    "\n",
    "# using class India and Karnataka\n",
    "\n",
    "# creating object\n",
    "ind = India()\n",
    "kar = Karnataka()\n",
    "\n",
    "# polymorphism with a function\n",
    "def func(obj):\n",
    "    obj.capital()\n",
    "    obj.language()\n",
    "    return\n",
    "\n",
    "# iterating through class objects\n",
    "for cont in (ind,kar):\n",
    "    func(cont)"
   ]
  },
  {
   "cell_type": "markdown",
   "metadata": {},
   "source": [
    "###  Class or Static Variable\n",
    "\n",
    "Variables which are defined in class declaration are called as **class variable** and those variables which are defined in methods are called as **instance variables**.\n",
    "```Python\n",
    "class Dog:\n",
    "    species = \"Canis Familiaris\"  <------ Class Variable\n",
    "    \n",
    "    def __init__(self,name,age):\n",
    "        self.name = name          <------ Instance Variable\n",
    "        self.age = age            <------ Instance Variable```"
   ]
  },
  {
   "cell_type": "markdown",
   "metadata": {},
   "source": [
    "### Class and Static Method\n",
    "\n",
    "**Class Method** is a method which is bound to the class and not to the object. It takes first argument as a class parameter which points to the class and not the object.\n",
    "\n",
    "It can modify the class state which can be used across all the instance.\n",
    "\n",
    "**@classmethod** decorater is used.\n",
    "\n",
    "**Static Mathod** is also bound to the class but does not take implicit first argument. It can't access or modify class state. These are utility methods and work on the parameters provided.\n",
    "\n",
    "**@staticmethod** decorater is used"
   ]
  },
  {
   "cell_type": "code",
   "execution_count": 60,
   "metadata": {},
   "outputs": [
    {
     "name": "stdout",
     "output_type": "stream",
     "text": [
      "Ashu is 30 and id is 000\n",
      "True\n",
      "True\n"
     ]
    }
   ],
   "source": [
    "class Employee:\n",
    "    \n",
    "    # static attribute\n",
    "    ID = \"000\"\n",
    "    \n",
    "    # constructor\n",
    "    def __init__(self,name,age,ID):\n",
    "        self.name = name\n",
    "        self.age = age\n",
    "        self.id = ID\n",
    "    \n",
    "    def __str__(self):\n",
    "        return f\"{self.name} is {self.age} and id is {self.id}\"\n",
    "    \n",
    "    # class method\n",
    "    @classmethod\n",
    "    def info(cls,name,age):\n",
    "        ID = cls.ID\n",
    "        return cls(name,age,ID)\n",
    "    \n",
    "    # static method\n",
    "    @staticmethod\n",
    "    def isadult(age):\n",
    "        return True if age>=18 else False\n",
    "\n",
    "# creating Employee object but calling classmethod \n",
    "obj1 = Employee.info(\"Ashu\",30)\n",
    "print(obj1)\n",
    "print(obj1.isadult(30))\n",
    "print(Employee.isadult(30))\n"
   ]
  }
 ],
 "metadata": {
  "kernelspec": {
   "display_name": "Python 3",
   "language": "python",
   "name": "python3"
  },
  "language_info": {
   "codemirror_mode": {
    "name": "ipython",
    "version": 3
   },
   "file_extension": ".py",
   "mimetype": "text/x-python",
   "name": "python",
   "nbconvert_exporter": "python",
   "pygments_lexer": "ipython3",
   "version": "3.7.3"
  }
 },
 "nbformat": 4,
 "nbformat_minor": 2
}
