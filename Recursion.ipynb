{
 "cells": [
  {
   "cell_type": "markdown",
   "id": "68d18f70",
   "metadata": {},
   "source": [
    "# Recursion\n",
    "\n",
    "It helps us solve complex problems in a easy way. In simple terms recursion is a function calling itself.\n",
    "\n",
    "Few thigs to understand about function is that every function creates its own instance in local scope:\n",
    "- Funtion stays in memory until resolved.\n",
    "- Only when a function finishes the exection only then it comes out of program to the line it was called from and gets deleted from the stack.\n",
    "\n",
    "Let's see an example:\n",
    "\n",
    "Find factorial of 5 = 5!.\n",
    "\n",
    "5! means 5 x 4 x 3 x 2 x 1"
   ]
  },
  {
   "cell_type": "code",
   "execution_count": 88,
   "id": "76de0f6a",
   "metadata": {},
   "outputs": [
    {
     "name": "stdout",
     "output_type": "stream",
     "text": [
      "Fact5 :  1\n",
      "Fact4 :  2 2\n",
      "Fact3 :  3 6\n",
      "Fact2 :  4 24\n",
      "Fact1 :  5 120\n"
     ]
    },
    {
     "data": {
      "text/plain": [
       "120"
      ]
     },
     "execution_count": 88,
     "metadata": {},
     "output_type": "execute_result"
    }
   ],
   "source": [
    "## factorial of a number\n",
    "\n",
    "\n",
    "def fact1(n):\n",
    "    if n==1:\n",
    "        return 1\n",
    "    ans = n * fact2(n-1)\n",
    "    print(\"Fact1 : \",n,ans)\n",
    "    return ans\n",
    "\n",
    "def fact2(n):\n",
    "    if n==1:\n",
    "        return 1\n",
    "    ans = n*fact3(n-1)\n",
    "    print(\"Fact2 : \",n,ans)\n",
    "    return ans\n",
    "\n",
    "def fact3(n):\n",
    "    if n==1:\n",
    "        return 1\n",
    "    ans = n*fact4(n-1)\n",
    "    print(\"Fact3 : \",n,ans)\n",
    "    return ans\n",
    "\n",
    "def fact4(n):\n",
    "    if n==1:\n",
    "        return 1\n",
    "    ans = n*fact5(n-1)\n",
    "    print(\"Fact4 : \",n,ans)\n",
    "    return ans\n",
    "\n",
    "def fact5(n):\n",
    "    print(\"Fact5 : \",n)\n",
    "    if n==1:\n",
    "        return 1\n",
    "\n",
    "fact1(5)"
   ]
  },
  {
   "cell_type": "markdown",
   "id": "9600e9fd",
   "metadata": {},
   "source": [
    "### Assignment"
   ]
  },
  {
   "cell_type": "code",
   "execution_count": null,
   "id": "3b61886e",
   "metadata": {},
   "outputs": [
    {
     "name": "stdout",
     "output_type": "stream",
     "text": [
      "All test cases passed!\n"
     ]
    }
   ],
   "source": [
    "\"\"\"\n",
    "Problem: Sum of Digits in a Number\n",
    "\n",
    "Given an integer n, calculate the sum of its digits.\n",
    "\n",
    "Example 1:\n",
    "Input: n = 123\n",
    "Output: 6\n",
    "Explanation: 1 + 2 + 3 = 6\n",
    "\n",
    "Example 2:\n",
    "Input: n = 54321\n",
    "Output: 15\n",
    "Explanation: 5 + 4 + 3 + 2 + 1 = 15\n",
    "\n",
    "Example 3:\n",
    "Input: n = 0\n",
    "Output: 0\n",
    "Explanation: The sum of digits in 0 is 0.\n",
    "\n",
    "Note:\n",
    "- The input number can be positive, negative, or zero.\n",
    "- For negative numbers, ignore the minus sign and sum the digits of the absolute value.\n",
    "\n",
    "Constraints:\n",
    "-10^9 <= n <= 10^9\n",
    "\n",
    "Function Signature:\n",
    "def sum_of_digits(n: int) -> int:\n",
    "\n",
    "Your task is to implement the sum_of_digits function.\n",
    "\"\"\"\n",
    "\n",
    "def sum_of_digits(n):\n",
    "    # Your code here\n",
    "    n = abs(n)\n",
    "    if n<10:\n",
    "        return n\n",
    "    result = sum_of_digits(n//10) + n%10\n",
    "    return result\n",
    "\n",
    "# Test cases\n",
    "def test_sum_of_digits():\n",
    "    assert sum_of_digits(123) == 6, \"Test case 1 failed\"\n",
    "    assert sum_of_digits(54321) == 15, \"Test case 2 failed\"\n",
    "    assert sum_of_digits(0) == 0, \"Test case 3 failed\"\n",
    "    assert sum_of_digits(-123) == 6, \"Test case 4 failed\"\n",
    "    assert sum_of_digits(1000000000) == 1, \"Test case 5 failed\"\n",
    "    print(\"All test cases passed!\")\n",
    "\n",
    "if __name__ == \"__main__\":\n",
    "    test_sum_of_digits()"
   ]
  },
  {
   "cell_type": "code",
   "execution_count": null,
   "id": "e8840dab",
   "metadata": {},
   "outputs": [
    {
     "name": "stdout",
     "output_type": "stream",
     "text": [
      "All test cases passed!\n"
     ]
    }
   ],
   "source": [
    "\"\"\"Problem: Calculate Power of a Number\n",
    "\n",
    "Given two non-negative integers 'base' and 'exponent', calculate 'base' raised to the power of 'exponent' using recursion.\n",
    "\n",
    "Example 1:\n",
    "Input: base = 2, exponent = 3\n",
    "Output: 8\n",
    "Explanation: 2^3 = 2 * 2 * 2 = 8\n",
    "\n",
    "Example 2:\n",
    "Input: base = 5, exponent = 0\n",
    "Output: 1\n",
    "Explanation: Any number raised to the power of 0 is 1.\n",
    "\n",
    "Example 3:\n",
    "Input: base = 3, exponent = 4\n",
    "Output: 81\n",
    "Explanation: 3^4 = 3 * 3 * 3 * 3 = 81\n",
    "\n",
    "Note:\n",
    "- Both base and exponent are non-negative integers.\n",
    "- You must use recursion to solve this problem.\n",
    "- Do not use the built-in power function or operator.\n",
    "\n",
    "Constraints:\n",
    "0 <= base <= 100\n",
    "0 <= exponent <= 1000\n",
    "\n",
    "Function Signature:\n",
    "def power(base: int, exponent: int) -> int:\n",
    "\n",
    "Your task is to implement the power function using recursion.\n",
    "\"\"\"\n",
    "\n",
    "def power(base: int, exponent: int) -> int:\n",
    "    # Your code here\n",
    "    if exponent==0:\n",
    "        return 1\n",
    "    result = base * power(base,exponent-1)\n",
    "    return result\n",
    "\n",
    "# Test cases\n",
    "def test_power():\n",
    "    assert power(2, 3) == 8, \"Test case 1 failed\"\n",
    "    assert power(5, 0) == 1, \"Test case 2 failed\"\n",
    "    assert power(3, 4) == 81, \"Test case 3 failed\"\n",
    "    assert power(10, 2) == 100, \"Test case 4 failed\"\n",
    "    assert power(7, 1) == 7, \"Test case 5 failed\"\n",
    "    print(\"All test cases passed!\")\n",
    "\n",
    "if __name__ == \"__main__\":\n",
    "    test_power()"
   ]
  },
  {
   "cell_type": "markdown",
   "id": "2adb69cf",
   "metadata": {},
   "source": [
    "## Recurssion with Array\n",
    "\n",
    "Whenever in array, we are dealing with a problem that can be broken down and individually be applied to leftover parts we can use recurrions there.\n",
    "\n",
    "\n",
    "Q. Sum of an array using recursion?\n",
    "\n",
    "Find the sum of an array using recurssion, specify the recursion relation and recursion tree."
   ]
  },
  {
   "cell_type": "code",
   "execution_count": 53,
   "id": "b123d9e2",
   "metadata": {},
   "outputs": [],
   "source": [
    "def sumofarray(n):\n",
    "    if len(n)==0:\n",
    "        return 0\n",
    "    sans = sumofarray(n[1:])\n",
    "    result = n[0]+sans\n",
    "    return result"
   ]
  },
  {
   "cell_type": "code",
   "execution_count": 54,
   "id": "0562d25e",
   "metadata": {},
   "outputs": [
    {
     "data": {
      "text/plain": [
       "15"
      ]
     },
     "execution_count": 54,
     "metadata": {},
     "output_type": "execute_result"
    }
   ],
   "source": [
    "sumofarray([1,2,3,4,5])"
   ]
  },
  {
   "cell_type": "code",
   "execution_count": 58,
   "id": "bde1f8a9",
   "metadata": {},
   "outputs": [
    {
     "data": {
      "text/plain": [
       "15"
      ]
     },
     "execution_count": 58,
     "metadata": {},
     "output_type": "execute_result"
    }
   ],
   "source": [
    "def sumofarraytail(n,sum):\n",
    "    if len(n)==0:\n",
    "        return 0+sum\n",
    "    arraysum = sum + n[0]\n",
    "    result = sumofarraytail(n[1:],arraysum)\n",
    "    return result\n",
    "\n",
    "sumofarraytail([1,2,3,4,5],0)"
   ]
  },
  {
   "cell_type": "code",
   "execution_count": null,
   "id": "6b99dedc",
   "metadata": {},
   "outputs": [
    {
     "name": "stdout",
     "output_type": "stream",
     "text": [
      "15\n"
     ]
    }
   ],
   "source": [
    "## with helper function\n",
    "def sumofarraytailhelper(n,sum):\n",
    "    if len(n)==0:\n",
    "        return sum\n",
    "    arraysum = sum + n[0]\n",
    "    result = sumofarraytailhelper(n[1:],arraysum)\n",
    "    return result\n",
    "\n",
    "def sumofarraytail(n):\n",
    "    # helper function\n",
    "    return sumofarraytailhelper(n,0)\n",
    "\n",
    "print(sumofarraytail([1,2,3,4,5]))"
   ]
  },
  {
   "cell_type": "markdown",
   "id": "ac04cb64",
   "metadata": {},
   "source": [
    "## Q Find the sum of an array using recursion removing last element from the list in subsequent call?"
   ]
  },
  {
   "cell_type": "code",
   "execution_count": null,
   "id": "04be7e1e",
   "metadata": {},
   "outputs": [
    {
     "data": {
      "text/plain": [
       "15"
      ]
     },
     "execution_count": 72,
     "metadata": {},
     "output_type": "execute_result"
    }
   ],
   "source": [
    "## Head recusion call\n",
    "def sumOfArrayHead(l1):\n",
    "    if len(l1)==0:\n",
    "        return 0\n",
    "    result = l1[-1] + sumOfArrayHead(l1[:-1])\n",
    "    return result\n",
    "\n",
    "sumOfArrayHead([1,2,3,4,5])"
   ]
  },
  {
   "cell_type": "code",
   "execution_count": null,
   "id": "7841d4df",
   "metadata": {},
   "outputs": [
    {
     "data": {
      "text/plain": [
       "15"
      ]
     },
     "execution_count": 75,
     "metadata": {},
     "output_type": "execute_result"
    }
   ],
   "source": [
    "## Tail Recursion call\n",
    "def sumOfArrayTailHelper(l1,sum):\n",
    "    if len(l1)==0:\n",
    "        return sum\n",
    "    tsum = sum+ l1[-1]\n",
    "    result = sumOfArrayTailHelper(l1[:-1],tsum)\n",
    "    return result\n",
    "\n",
    "def sumOfArrayTail(l1):\n",
    "    #helper function\n",
    "    return sumOfArrayTailHelper(l1,0)\n",
    "\n",
    "sumOfArrayTail([1,2,3,4,5])"
   ]
  },
  {
   "cell_type": "code",
   "execution_count": 82,
   "id": "3db58b53",
   "metadata": {},
   "outputs": [
    {
     "data": {
      "text/plain": [
       "2"
      ]
     },
     "execution_count": 82,
     "metadata": {},
     "output_type": "execute_result"
    }
   ],
   "source": [
    "def count_digits(n):\n",
    "    \"\"\"\n",
    "    Function to find the number of digits in a number using recursion.\n",
    "    \n",
    "    Parameters:\n",
    "    n (int): The positive integer whose digits are to be counted.\n",
    "    \n",
    "    Returns:\n",
    "    int: The number of digits in the integer.\n",
    "    \"\"\"\n",
    "    # Your code here\n",
    "    if n<10:\n",
    "        return 1\n",
    "    return 1+count_digits(n//10)\n",
    "\n",
    "count_digits(10)"
   ]
  },
  {
   "cell_type": "code",
   "execution_count": 85,
   "id": "db19b699",
   "metadata": {},
   "outputs": [
    {
     "name": "stdout",
     "output_type": "stream",
     "text": [
      "1\n",
      "2\n",
      "3\n",
      "4\n",
      "5\n"
     ]
    },
    {
     "data": {
      "text/plain": [
       "5"
      ]
     },
     "execution_count": 85,
     "metadata": {},
     "output_type": "execute_result"
    }
   ],
   "source": [
    "def count_to_n(n):\n",
    "    \"\"\"\n",
    "    Function to return a list of integers from 1 to n using recursion.\n",
    "    \n",
    "    Parameters:\n",
    "    n (int): The positive integer representing the upper limit of the range.\n",
    "    \n",
    "    Returns:\n",
    "    list: A list of integers from 1 to n.\n",
    "    \"\"\"\n",
    "    # Your code here\n",
    "    if n==0:\n",
    "        return 0\n",
    "    count_to_n(n-1)\n",
    "    print(n)\n",
    "    return n\n",
    "\n",
    "count_to_n(5)"
   ]
  },
  {
   "cell_type": "code",
   "execution_count": null,
   "id": "fa54e44a",
   "metadata": {},
   "outputs": [],
   "source": []
  }
 ],
 "metadata": {
  "kernelspec": {
   "display_name": ".conda",
   "language": "python",
   "name": "python3"
  },
  "language_info": {
   "codemirror_mode": {
    "name": "ipython",
    "version": 3
   },
   "file_extension": ".py",
   "mimetype": "text/x-python",
   "name": "python",
   "nbconvert_exporter": "python",
   "pygments_lexer": "ipython3",
   "version": "3.12.11"
  }
 },
 "nbformat": 4,
 "nbformat_minor": 5
}
